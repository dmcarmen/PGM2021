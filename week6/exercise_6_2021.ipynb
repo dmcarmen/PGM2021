{
 "cells": [
  {
   "cell_type": "markdown",
   "metadata": {},
   "source": [
    "# Probabilistic Models – Spring 2021\n",
    "## Exercise Session 6\n",
    "March 3rd 16.15\n",
    "\n",
    "<span style=\"color:red\">**Carmen Díez**</span>\n",
    "\n",
    "### Instructions\n",
    "Make sure the notebook produces correct results when ran sequentially starting from the first cell. You can ensure this by clearing all outputs (`Edit > Clear All Outputs`), running all cells (`Run > Run All Cells`), and finally correcting any errors.\n",
    "\n",
    "To get points:\n",
    "1. Submit your answers to the automatically checked Moodle test. \n",
    " - You have 5 tries on the test: the highest obtained score will be taken into account.\n",
    " - For numerical questions the tolerance is $1\\cdot10^{-4}$.\n",
    "2. Submit this notebook containing your derivations to Moodle."
   ]
  },
  {
   "cell_type": "markdown",
   "metadata": {},
   "source": [
    "## Exercise 1\n",
    "***\n",
    "\n",
    "`jkl` is a somewhat standard file format for local scores. The first line in a `jkl`-file states the number of variables/nodes, and the rest of the file is divided into node specific sections. The first line in a section states the variable name and the number of local scores to follow. Each local score is followed by the number of parents for the local score and the parent variables themselves. In the section for variable 0 the line `-193.80 0` thus corresponds to the local score $f(0, \\emptyset)$; the line `-193.42 2 1 2` corresponds to the local score $f(0, \\{ 1, 2\\})$, etc.\n",
    "\n",
    "Consider the following local scores:"
   ]
  },
  {
   "cell_type": "code",
   "execution_count": 2,
   "metadata": {},
   "outputs": [
    {
     "name": "stdout",
     "output_type": "stream",
     "text": [
      "4\r\n",
      "0 8\r\n",
      "-193.80021345773184 0 \r\n",
      "-197.16851527924672 1 1\r\n",
      "-188.8375185956392 1 2\r\n",
      "-189.89041764309678 1 3\r\n",
      "-193.4201332025088 2 1 2\r\n",
      "-213.92449082704218 2 1 3\r\n",
      "-181.94961348240275 2 2 3\r\n",
      "-212.20350455559912 3 1 2 3\r\n",
      "1 8\r\n",
      "-181.3940093476881 0 \r\n",
      "-184.76231116920297 1 0\r\n",
      "-186.30305389009453 1 2\r\n",
      "-161.58080460560382 1 3\r\n",
      "-190.88566849696412 2 0 2\r\n",
      "-185.6148777895492 2 0 3\r\n",
      "-174.47344794910612 2 2 3\r\n",
      "-204.7273390223025 3 0 2 3\r\n",
      "2 8\r\n",
      "-182.99314409357032 0 \r\n",
      "-178.0304492314777 1 0\r\n",
      "-187.90218863597676 1 1\r\n",
      "-151.04672436005933 1 3\r\n",
      "-184.15380655923883 2 0 1\r\n",
      "-143.1059201993653 2 0 3\r\n",
      "-163.93936770356163 2 1 3\r\n",
      "-162.21838143211858 3 0 1 3\r\n",
      "3 8\r\n",
      "-169.22877645649714 0 \r\n",
      "-165.31898064186208 1 0\r\n",
      "-149.41557171441286 1 1\r\n",
      "-137.28235672298615 1 2\r\n",
      "-166.17154726220832 2 0 1\r\n",
      "-130.3944516097497 2 0 2\r\n",
      "-125.45275078199774 2 1 2\r\n",
      "-144.23612213508807 3 0 1 2\r\n"
     ]
    }
   ],
   "source": [
    "!cat data/1_fix.jkl"
   ]
  },
  {
   "cell_type": "markdown",
   "metadata": {},
   "source": [
    "Use dynamic programming to find (one of) the highest scoring DAG(s) (i.e. maximizing the marginal likelihood or the global BDeu score).\n",
    "\n",
    "Report the obtained score for the DAG."
   ]
  },
  {
   "cell_type": "markdown",
   "metadata": {},
   "source": [
    "### Solution\n",
    "Highest scoring DAG with dynamic programming: having an specific causal order calculat the DAG that maximizes the score. We know the potential parents and we take the option with those parents (or less) that maximizes the score."
   ]
  },
  {
   "cell_type": "code",
   "execution_count": 202,
   "metadata": {},
   "outputs": [],
   "source": [
    "import pandas as pd \n",
    "import numpy as np\n",
    "from itertools import permutations\n",
    "import graphviz"
   ]
  },
  {
   "cell_type": "code",
   "execution_count": 77,
   "metadata": {},
   "outputs": [],
   "source": [
    "def append_to_df(node, local_score, parents):\n",
    "    return df.append({'node': node, 'local_score': local_score, 'parents': parents}, ignore_index=True)"
   ]
  },
  {
   "cell_type": "code",
   "execution_count": 195,
   "metadata": {},
   "outputs": [],
   "source": [
    "def best_network(causal_order):\n",
    "    best_graph = pd.DataFrame()\n",
    "    causal_order_str = [str(n) for n in causal_order]\n",
    "    \n",
    "    for i in range(n_nodes):\n",
    "        df_node = df[df['node'] == causal_order_str[i]]\n",
    "        potential_parents = causal_order_str[:i]\n",
    "        \n",
    "        n_local = len(df_node.index)\n",
    "        \n",
    "        valid = [True]*n_local\n",
    "        for j in range(n_local):\n",
    "            ps = df_node['parents'].iloc[j]\n",
    "            for k in range(len(ps)):\n",
    "                if ps[k] not in potential_parents:\n",
    "                    valid[j] = False\n",
    "                    break\n",
    "\n",
    "        df_valid = df_node[valid]\n",
    "        \n",
    "        valid_max = df_valid['local_score'].max()\n",
    "        row_max = df_valid[df_valid['local_score'] == valid_max]\n",
    "        best_graph = best_graph.append(row_max, ignore_index=True)\n",
    "    return best_graph"
   ]
  },
  {
   "cell_type": "code",
   "execution_count": 204,
   "metadata": {
    "scrolled": false
   },
   "outputs": [],
   "source": [
    "#reading the file\n",
    "cols = ['node', 'local_score', 'parents']\n",
    "df = pd.DataFrame(columns = cols)\n",
    "\n",
    "f = open('data/1_fix.jkl')\n",
    "n_nodes = int(f.readline())\n",
    "for _ in range(n_nodes):\n",
    "    node_and_n_local = f.readline().split()\n",
    "    node = node_and_n_local[0]\n",
    "    n_local = int(node_and_n_local[1])\n",
    "    for _ in range(n_local):\n",
    "        local = f.readline().split()\n",
    "        local_score = float(local[0])\n",
    "        n_parents = int(local[1])\n",
    "        if n_parents==0:\n",
    "            parents = ''\n",
    "        else:\n",
    "            parents = []\n",
    "            for i in range(n_parents):\n",
    "                parents += [local[2+i]]\n",
    "            parents = \"\".join(parents)\n",
    "        \n",
    "        df = append_to_df(node, local_score, parents)"
   ]
  },
  {
   "cell_type": "code",
   "execution_count": 206,
   "metadata": {
    "scrolled": true
   },
   "outputs": [
    {
     "name": "stdout",
     "output_type": "stream",
     "text": [
      "Maximum Score:  -663.805918904563\n"
     ]
    },
    {
     "data": {
      "text/html": [
       "<div>\n",
       "<style scoped>\n",
       "    .dataframe tbody tr th:only-of-type {\n",
       "        vertical-align: middle;\n",
       "    }\n",
       "\n",
       "    .dataframe tbody tr th {\n",
       "        vertical-align: top;\n",
       "    }\n",
       "\n",
       "    .dataframe thead th {\n",
       "        text-align: right;\n",
       "    }\n",
       "</style>\n",
       "<table border=\"1\" class=\"dataframe\">\n",
       "  <thead>\n",
       "    <tr style=\"text-align: right;\">\n",
       "      <th></th>\n",
       "      <th>node</th>\n",
       "      <th>local_score</th>\n",
       "      <th>parents</th>\n",
       "    </tr>\n",
       "  </thead>\n",
       "  <tbody>\n",
       "    <tr>\n",
       "      <th>0</th>\n",
       "      <td>0</td>\n",
       "      <td>-193.800213</td>\n",
       "      <td></td>\n",
       "    </tr>\n",
       "    <tr>\n",
       "      <th>1</th>\n",
       "      <td>2</td>\n",
       "      <td>-178.030449</td>\n",
       "      <td>0</td>\n",
       "    </tr>\n",
       "    <tr>\n",
       "      <th>2</th>\n",
       "      <td>3</td>\n",
       "      <td>-130.394452</td>\n",
       "      <td>02</td>\n",
       "    </tr>\n",
       "    <tr>\n",
       "      <th>3</th>\n",
       "      <td>1</td>\n",
       "      <td>-161.580805</td>\n",
       "      <td>3</td>\n",
       "    </tr>\n",
       "  </tbody>\n",
       "</table>\n",
       "</div>"
      ],
      "text/plain": [
       "  node  local_score parents\n",
       "0    0  -193.800213        \n",
       "1    2  -178.030449       0\n",
       "2    3  -130.394452      02\n",
       "3    1  -161.580805       3"
      ]
     },
     "execution_count": 206,
     "metadata": {},
     "output_type": "execute_result"
    }
   ],
   "source": [
    "#all possible causal orders\n",
    "perms = permutations([0,1,2,3])\n",
    "orders = list(perms)\n",
    "\n",
    "#best network for each possible causal order\n",
    "best_networks = []\n",
    "for causal_order in orders:\n",
    "    best_networks.append(best_network(causal_order))\n",
    "\n",
    "#scores for each network\n",
    "scores = [df['local_score'].sum() for df in best_networks]\n",
    "\n",
    "# find id of maximum\n",
    "id_max = np.argmax(scores)\n",
    "\n",
    "print('Maximum Score: ', scores[id_max] )\n",
    "best_networks[id_max]"
   ]
  },
  {
   "cell_type": "code",
   "execution_count": 203,
   "metadata": {},
   "outputs": [
    {
     "data": {
      "image/svg+xml": [
       "<?xml version=\"1.0\" encoding=\"UTF-8\" standalone=\"no\"?>\n",
       "<!DOCTYPE svg PUBLIC \"-//W3C//DTD SVG 1.1//EN\"\n",
       " \"http://www.w3.org/Graphics/SVG/1.1/DTD/svg11.dtd\">\n",
       "<!-- Generated by graphviz version 2.43.0 (0)\n",
       " -->\n",
       "<!-- Title: %3 Pages: 1 -->\n",
       "<svg width=\"130pt\" height=\"260pt\"\n",
       " viewBox=\"0.00 0.00 130.00 260.00\" xmlns=\"http://www.w3.org/2000/svg\" xmlns:xlink=\"http://www.w3.org/1999/xlink\">\n",
       "<g id=\"graph0\" class=\"graph\" transform=\"scale(1 1) rotate(0) translate(4 256)\">\n",
       "<title>%3</title>\n",
       "<polygon fill=\"white\" stroke=\"transparent\" points=\"-4,4 -4,-256 126,-256 126,4 -4,4\"/>\n",
       "<!-- 0 -->\n",
       "<g id=\"node1\" class=\"node\">\n",
       "<title>0</title>\n",
       "<ellipse fill=\"none\" stroke=\"black\" cx=\"95\" cy=\"-234\" rx=\"27\" ry=\"18\"/>\n",
       "<text text-anchor=\"middle\" x=\"95\" y=\"-230.3\" font-family=\"Times,serif\" font-size=\"14.00\">0</text>\n",
       "</g>\n",
       "<!-- 2 -->\n",
       "<g id=\"node3\" class=\"node\">\n",
       "<title>2</title>\n",
       "<ellipse fill=\"none\" stroke=\"black\" cx=\"27\" cy=\"-162\" rx=\"27\" ry=\"18\"/>\n",
       "<text text-anchor=\"middle\" x=\"27\" y=\"-158.3\" font-family=\"Times,serif\" font-size=\"14.00\">2</text>\n",
       "</g>\n",
       "<!-- 0&#45;&gt;2 -->\n",
       "<g id=\"edge1\" class=\"edge\">\n",
       "<title>0&#45;&gt;2</title>\n",
       "<path fill=\"none\" stroke=\"black\" d=\"M80.91,-218.5C71.43,-208.73 58.76,-195.69 48.08,-184.7\"/>\n",
       "<polygon fill=\"black\" stroke=\"black\" points=\"50.55,-182.22 41.07,-177.49 45.53,-187.1 50.55,-182.22\"/>\n",
       "</g>\n",
       "<!-- 3 -->\n",
       "<g id=\"node4\" class=\"node\">\n",
       "<title>3</title>\n",
       "<ellipse fill=\"none\" stroke=\"black\" cx=\"95\" cy=\"-90\" rx=\"27\" ry=\"18\"/>\n",
       "<text text-anchor=\"middle\" x=\"95\" y=\"-86.3\" font-family=\"Times,serif\" font-size=\"14.00\">3</text>\n",
       "</g>\n",
       "<!-- 0&#45;&gt;3 -->\n",
       "<g id=\"edge2\" class=\"edge\">\n",
       "<title>0&#45;&gt;3</title>\n",
       "<path fill=\"none\" stroke=\"black\" d=\"M95,-215.87C95,-191.67 95,-147.21 95,-118.39\"/>\n",
       "<polygon fill=\"black\" stroke=\"black\" points=\"98.5,-118.19 95,-108.19 91.5,-118.19 98.5,-118.19\"/>\n",
       "</g>\n",
       "<!-- 1 -->\n",
       "<g id=\"node2\" class=\"node\">\n",
       "<title>1</title>\n",
       "<ellipse fill=\"none\" stroke=\"black\" cx=\"95\" cy=\"-18\" rx=\"27\" ry=\"18\"/>\n",
       "<text text-anchor=\"middle\" x=\"95\" y=\"-14.3\" font-family=\"Times,serif\" font-size=\"14.00\">1</text>\n",
       "</g>\n",
       "<!-- 2&#45;&gt;3 -->\n",
       "<g id=\"edge3\" class=\"edge\">\n",
       "<title>2&#45;&gt;3</title>\n",
       "<path fill=\"none\" stroke=\"black\" d=\"M41.09,-146.5C50.57,-136.73 63.24,-123.69 73.92,-112.7\"/>\n",
       "<polygon fill=\"black\" stroke=\"black\" points=\"76.47,-115.1 80.93,-105.49 71.45,-110.22 76.47,-115.1\"/>\n",
       "</g>\n",
       "<!-- 3&#45;&gt;1 -->\n",
       "<g id=\"edge4\" class=\"edge\">\n",
       "<title>3&#45;&gt;1</title>\n",
       "<path fill=\"none\" stroke=\"black\" d=\"M95,-71.7C95,-63.98 95,-54.71 95,-46.11\"/>\n",
       "<polygon fill=\"black\" stroke=\"black\" points=\"98.5,-46.1 95,-36.1 91.5,-46.1 98.5,-46.1\"/>\n",
       "</g>\n",
       "</g>\n",
       "</svg>\n"
      ],
      "text/plain": [
       "<graphviz.dot.Digraph at 0x7fab0513f400>"
      ]
     },
     "execution_count": 203,
     "metadata": {},
     "output_type": "execute_result"
    }
   ],
   "source": [
    "g = graphviz.Digraph(engine='dot', graph_attr={'rankdir':'TB', 'size':'20', 'nodesep':'1'})\n",
    "\n",
    "g.node(\"0\")\n",
    "g.node(\"1\")\n",
    "g.node(\"2\")\n",
    "g.node(\"3\")\n",
    "\n",
    "g.edge(\"0\",\"2\")\n",
    "g.edge(\"0\",\"3\")\n",
    "g.edge(\"2\",\"3\")\n",
    "g.edge(\"3\",\"1\")\n",
    "\n",
    "g"
   ]
  },
  {
   "cell_type": "markdown",
   "metadata": {},
   "source": [
    "## Exercise 2\n",
    "***\n",
    "\n",
    "Given the local scores above, find an optimal tree structure using the Chow-Liu algorithm.\n",
    "\n",
    "Report the obtained score for the DAG."
   ]
  },
  {
   "cell_type": "markdown",
   "metadata": {},
   "source": [
    "### Solution\n",
    "Chow-liu algorithm: \n",
    "1. Initialize a complete undirected weighted graph G on N with edge weights $w_{ij}=f(i,j)-f(i,\\emptyset)=f(j,i)-f(j,\\emptyset)$.\n",
    "2. Find a maximum (weight) spanning tree G' of G (using Kruskal algorith, for example).\n",
    "3. Choose an arbitrary node as a root and orient all edges in G' away from it."
   ]
  },
  {
   "cell_type": "code",
   "execution_count": 274,
   "metadata": {},
   "outputs": [],
   "source": [
    "def f(node, parents):\n",
    "    if type(parents) == list:\n",
    "        parents = ''.join([str(n) for n in parents])\n",
    "    if type(node) != str:\n",
    "        node = str(node)\n",
    "    return df[(df['node']==node) & (df['parents']==parents)]['local_score'].item()"
   ]
  },
  {
   "cell_type": "code",
   "execution_count": 277,
   "metadata": {},
   "outputs": [
    {
     "name": "stdout",
     "output_type": "stream",
     "text": [
      "0 - 1 : -3.3683018215148763\n",
      "0 - 2 : 4.962694862092633\n",
      "0 - 3 : 3.9097958146350607\n",
      "1 - 2 : -4.909044542406434\n",
      "1 - 3 : 19.81320474208428\n",
      "2 - 3 : 31.946419733510993\n"
     ]
    }
   ],
   "source": [
    "weights = dict()\n",
    "for i in range(n_nodes):\n",
    "    weights[i] = dict()\n",
    "    for j in range(n_nodes):\n",
    "        if i!=j and i<j:\n",
    "            weights[i][j] = f(i, [j]) - f(i, [])\n",
    "            print(i, '-', j, ':', weights[i][j])"
   ]
  },
  {
   "cell_type": "markdown",
   "metadata": {},
   "source": [
    "We perform Kruskal with weights obtained. We choose the edges with the highest scores without getting cycles:\n",
    "\n",
    "1. **2 - 3:** 31.946419733510993\n",
    "2. **1 - 3:** 19.81320474208428\n",
    "3. **0 - 2:** 4.962694862092633\n",
    "\n",
    "We have connected all nodes. We choose, for example, 0 as root and we get the following tree: **0 -> 2 -> 3 -> 1**. Then, we calculate the tree's score."
   ]
  },
  {
   "cell_type": "code",
   "execution_count": 278,
   "metadata": {},
   "outputs": [
    {
     "name": "stdout",
     "output_type": "stream",
     "text": [
      "Score: -670.6938240177994\n"
     ]
    }
   ],
   "source": [
    "score = f(0,'') + f(2,'0') + f(3,'2') + f(1, '3')\n",
    "print('Score:', score)"
   ]
  },
  {
   "cell_type": "markdown",
   "metadata": {},
   "source": [
    "## Exercise 3\n",
    "***\n",
    "\n",
    "For the local scores above, run basic greedy hill climbing starting from the empty network until the score cannot be improved by a local operation. Do not perform any zero gain operations and make sure not to form cyclic networks.\n",
    "\n",
    "Report the obtained score for the DAG."
   ]
  },
  {
   "cell_type": "markdown",
   "metadata": {},
   "source": [
    "### Solution\n",
    "Greedy Hill climbing algorithm:\n",
    "\n",
    "Start with no edges and then perform operations that makes the score better:\n",
    "\n",
    "* Add an edge.\n",
    "* Delete an edge.\n",
    "* Reverse an edge.\n",
    "\n",
    "At each search step, we find the best neighbor and move to it."
   ]
  },
  {
   "cell_type": "code",
   "execution_count": 279,
   "metadata": {},
   "outputs": [
    {
     "name": "stdout",
     "output_type": "stream",
     "text": [
      "Intial Bdeu Score (no edges):  -727.4161433554874\n",
      "Step 1 -----------------------------------------\n",
      "add 2->3 gain:  31.946419733510993\n",
      "Step 2 -----------------------------------------\n",
      "add 3->1 gain:  19.81320474208428\n",
      "Step 3 -----------------------------------------\n",
      "add 0->2 gain:  4.962694862092633\n",
      "Step 4 -----------------------------------------\n",
      "rev 2->3 gain:  2.978109298601339\n",
      "rev 3->1 gain:  -7.983598801095923\n",
      "add 0->3 gain:  6.887905113236457\n",
      "add 0->1 gain:  -24.034073183945452\n",
      "add 2->1 gain:  -12.892643343502414\n",
      "Step 5 -----------------------------------------\n",
      "rev 3->1 gain:  -33.65487526742277\n",
      "rev 0->2 gain:  0.0\n",
      "rev 2->3 gain:  -34.924529032112446\n",
      "add 0->2 gain:  -24.034073183945452\n",
      "del 0->1 gain:  -19.81320474208428\n",
      "del 0->2 gain:  0.0\n",
      "del 2->3 gain:  -34.924529032112446\n",
      "No more iterations ----------------------------\n",
      "Bdeu score:  -663.805918904563\n"
     ]
    }
   ],
   "source": [
    "# 3.0\n",
    "\n",
    "score0 = f(0,'') + f(1,'') + f(2,'') + f(3,'')\n",
    "print('Intial Score (with no edges): ', score_0)\n",
    "\n",
    "#The first 3 steps are the same as in the Chow liu algorithm.\n",
    "# edge 2->3, gain weights[2][3]\n",
    "gain1 = weights[2][3] #f(3, '2') - f(3, '')\n",
    "score1 = score0 + gain1\n",
    "print('2->3 gain: ', gain1)\n",
    "\n",
    "# edge 3->1, gain weights[1][3]\n",
    "gain2 = f(1,'3')-f(1,'')\n",
    "bdeu_2 = bdeu_1 + gain2\n",
    "print('add 3->1 gain: ', gain2)\n",
    "\n",
    "print('Step 3 -----------------------------------------')\n",
    "# Step 3\n",
    "gain3 = f(2,'0')-f(2,'')\n",
    "bdeu_3 = bdeu_2 + gain3\n",
    "print('add 0->2 gain: ', gain3)\n",
    "\n",
    "\n",
    "print('Step 4 -----------------------------------------')\n",
    "# Step 4\n",
    "# Reversals\n",
    "# rev 2->3\n",
    "gain_rev23 = f(0,'') + f(2, '03') + f(3, '') + f(1, '3') - bdeu_3\n",
    "print('rev 2->3 gain: ', gain_rev23)\n",
    "#rev 1->3\n",
    "gain_rev31 = f(0,'') + f(2, '0') + f(3, '12') + f(1, '') - bdeu_3\n",
    "print('rev 3->1 gain: ', gain_rev31)\n",
    "\n",
    "# Adding new edges (no cycles)\n",
    "gain_add03 = f(0,'') + f(2, '0') + f(3, '02') + f(1, '3') - bdeu_3\n",
    "print('add 0->3 gain: ', gain_add03)\n",
    "gain_add01 = f(0,'') + f(2, '0') + f(3, '2') + f(1, '03') - bdeu_3\n",
    "print('add 0->1 gain: ', gain_add01)\n",
    "gain_add21 = f(0,'') + f(2, '0') + f(3, '2') + f(1, '23') - bdeu_3\n",
    "print('add 2->1 gain: ', gain_add21)\n",
    "\n",
    "bdeu_4 = bdeu_3 + gain_add03\n",
    "\n",
    "\n",
    "print('Step 5 -----------------------------------------')\n",
    "# Step 5\n",
    "# rev 3->1\n",
    "gain_rev23 = f(0,'') + f(2, '0') + f(3, '012') + f(1, '') - bdeu_4\n",
    "print('rev 3->1 gain: ', gain_rev23)\n",
    "# rev 0->2\n",
    "gain_rev02 = f(0,'2') +f(2, '') + f(3, '02') + f(1, '3') - bdeu_4\n",
    "print('rev 0->2 gain: ', gain_rev02)\n",
    "# rev 2->3\n",
    "gain_rev23 = f(0,'') + f(2, '0') + f(3, '0') + f(1, '3') - bdeu_4\n",
    "print('rev 2->3 gain: ', gain_rev23)\n",
    "# add 0->1\n",
    "gain_add01 = f(0,'') + f(2, '0') + f(3, '02') + f(1, '03') - bdeu_4\n",
    "print('add 0->2 gain: ', gain_add01)\n",
    "# del 3->1\n",
    "gain_del01 = f(0,'') + f(2, '0') + f(3, '02') + f(1, '') - bdeu_4\n",
    "print('del 0->1 gain: ', gain_del01)\n",
    "# del 0->2\n",
    "gain_del02 = f(0,'') + f(2, '0') + f(3, '02') + f(1, '3') - bdeu_4\n",
    "print('del 0->2 gain: ', gain_del02)\n",
    "# del 2->3\n",
    "gain_del23 = f(0,'') + f(2, '0') + f(3, '0') + f(1, '3') - bdeu_4\n",
    "print('del 2->3 gain: ', gain_del23)\n",
    "\n",
    "print('No more iterations ----------------------------')\n",
    "print('Bdeu score: ', bdeu_4)"
   ]
  },
  {
   "cell_type": "markdown",
   "metadata": {},
   "source": [
    "## Exercise 4\n",
    "***\n",
    "\n",
    "When finding a highest scoring DAG over a set of local scores, one can reduce the size of the problem by pruning (i.e., omitting) any local scores $f(X_i, Q)$ for which there is another local score $f(X_i, P)$ such that  $f(X_i, P) > f(X_i, Q)$ and $P \\subset Q$.  Prove that this is correct, i.e. show that $X_i$ does not have parent set $Q$ in a highest scoring DAG if there is another parent set $P$ such that $f(X_i, P) > f(X_i, Q)$ and $P \\subset Q$."
   ]
  },
  {
   "cell_type": "code",
   "execution_count": null,
   "metadata": {},
   "outputs": [],
   "source": [
    "# Provide your answer in cells here"
   ]
  },
  {
   "cell_type": "markdown",
   "metadata": {},
   "source": [
    "## Exercise 5\n",
    "***\n",
    "\n",
    "Causal effects $P(Y|do(X=x))$ denote probability distributions over Y that result when $X$ is forced to some value $x$ (instead of observing that value). For (causal) Bayesian networks, causal effects can be calculated by taking the BN factorization and deleting the CPD factors for the intervened nodes (this is equivalent to deleting edges in the graph because if a variable is forced to a value it is no longer influenced by its parents), and then summing out variables $V\\setminus \\{X,Y\\}$. Show  that equalities  $P(E|do(C=T))=P(E|C=T)$, $P(A|do(B=F))=P(A)$, $P(E|do(A=T))=P(E|A=T)$ apply in the following network.\n",
    "\n",
    "![](6.5.svg)"
   ]
  },
  {
   "cell_type": "code",
   "execution_count": 5,
   "metadata": {},
   "outputs": [
    {
     "name": "stdout",
     "output_type": "stream",
     "text": [
      "CPT for node A\n",
      "True\tFalse\n",
      "0.6\t0.4\n",
      "\n",
      "CPT for node B\n",
      "A\tTrue\tFalse\n",
      "1\t0.2\t0.8\n",
      "0\t0.25\t0.75\n",
      "\n",
      "CPT for node C\n",
      "A\tTrue\tFalse\n",
      "1\t0.8\t0.2\n",
      "0\t0.1\t0.9\n",
      "\n",
      "CPT for node D\n",
      "B\tC\tTrue\tFalse\n",
      "1\t1\t0.95\t0.05\n",
      "1\t0\t0.9\t0.1\n",
      "0\t1\t0.8\t0.2\n",
      "0\t0\t0\t1\n",
      "\n",
      "CPT for node E\n",
      "C\tTrue\tFalse\n",
      "1\t0.7\t0.3\n",
      "0\t0\t1\n",
      "\n"
     ]
    }
   ],
   "source": [
    "!for v in {A..E}; do echo \"CPT for node \"$v; cat \"data/cpt\"$v\".tsv\"; echo \"\"; done"
   ]
  },
  {
   "cell_type": "code",
   "execution_count": null,
   "metadata": {},
   "outputs": [],
   "source": [
    "# Provide your answer in cells here"
   ]
  },
  {
   "cell_type": "markdown",
   "metadata": {},
   "source": [
    "## Exercise 6\n",
    "***\n",
    "\n",
    "Using the above network and explanation, calculate the causal effect $P(D|do(B=T))$. Show that it does not equal to $P(D)$ or $P(D|B=T)$.\n",
    "\n",
    "Report:\n",
    "- $P(D=T|do(B=T))$.\n",
    "- $P(D=T)$.\n",
    "- $P(D=T|B=T)$."
   ]
  },
  {
   "cell_type": "code",
   "execution_count": 6,
   "metadata": {},
   "outputs": [],
   "source": [
    "# Provide your answer in cells here"
   ]
  }
 ],
 "metadata": {
  "kernelspec": {
   "display_name": "Python 3",
   "language": "python",
   "name": "python3"
  },
  "language_info": {
   "codemirror_mode": {
    "name": "ipython",
    "version": 3
   },
   "file_extension": ".py",
   "mimetype": "text/x-python",
   "name": "python",
   "nbconvert_exporter": "python",
   "pygments_lexer": "ipython3",
   "version": "3.8.5"
  }
 },
 "nbformat": 4,
 "nbformat_minor": 4
}
