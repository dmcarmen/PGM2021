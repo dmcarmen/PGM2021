{
 "cells": [
  {
   "cell_type": "markdown",
   "metadata": {},
   "source": [
    "# Probabilistic Models – Spring 2021\n",
    "## Exercise Session 2\n",
    "Feb 3rd 16.15.\n",
    "\n",
    "Carmen Díez\n",
    "\n",
    "### Instructions\n",
    "Make sure the notebook produces correct results when ran sequentially starting from the first cell. You can ensure this by clearing all outputs (`Edit > Clear All Outputs`), running all cells (`Run > Run All Cells`), and finally correcting any errors.\n",
    "\n",
    "To get points:\n",
    "1. Submit your answers to the automatically checked Moodle test. \n",
    " - You have 5 tries on the test: the highest obtained score will be taken into account.\n",
    " - For numerical questions the tolerance varies by question and will be specified in Moodle.\n",
    "2. Submit this notebook containing your derivations to Moodle.\n",
    "\n",
    "Some of the exercises will ask you to return a DAG as an answer. To make it possible to evaluate the answer automatically in Moodle use the following format. Construct the DAG as an adjacency matrix where $A[i, j] = 1$ if there is an edge $j \\rightarrow i$ and 0 otherwise. The nodes should be in alphabetical order, so $A \\rightarrow B$ corresponds to $0 \\rightarrow 1$ (or $1 \\rightarrow 2$ in R's 1-based indexing). Finally, concatenate all the rows starting from the first one and submit the vector as your answer. For example the DAG $A \\rightarrow B \\leftarrow C$ is encoded by the matrix \n",
    "\n",
    "$$\\begin{bmatrix} 0 & 0 & 0 \\\\ 1 & 0 & 1 \\\\ 0 & 0 & 0 \\end{bmatrix}$$\n",
    "\n",
    "and vector $000101000$.\n",
    "\n",
    "You can make use of the following examples to construct the DAG with Python/R."
   ]
  },
  {
   "cell_type": "code",
   "execution_count": 1,
   "metadata": {},
   "outputs": [
    {
     "name": "stdout",
     "output_type": "stream",
     "text": [
      "000101000\n"
     ]
    }
   ],
   "source": [
    "# RUN THIS IF WORKING IN PYTHON\n",
    "import pandas as pd\n",
    "\n",
    "# Function to concatenate matrix rows into a single string\n",
    "def mat2vec(dag):\n",
    "    return ''.join(str(x) for x in dag.values.reshape(dag.values.shape[0]**2))\n",
    "\n",
    "# Adjacency matrix\n",
    "rvs = [\"A\", \"B\", \"C\"]\n",
    "DAG = pd.DataFrame(0, index=rvs, columns=rvs)\n",
    "\n",
    "# Example: Set parents of B to be A and C.\n",
    "DAG.loc[\"B\", [\"A\", \"C\"]] = 1\n",
    "\n",
    "# Create the vector\n",
    "print(mat2vec(DAG))"
   ]
  },
  {
   "cell_type": "markdown",
   "metadata": {},
   "source": [
    "## Exercise 1\n",
    "***\n",
    "\n",
    "Let us consider a 4-sided dice rolling experiment as a multinomial model (i.i.d.   multi-valued Bernoulli). We roll the dice 20 times, and observe data $D$ with the following counts for the sides:"
   ]
  },
  {
   "cell_type": "code",
   "execution_count": 2,
   "metadata": {},
   "outputs": [
    {
     "name": "stdout",
     "output_type": "stream",
     "text": [
      "side\tcounts\r\n",
      "1\t5\r\n",
      "2\t3\r\n",
      "3\t7\r\n",
      "4\t5\r\n"
     ]
    }
   ],
   "source": [
    "!cat data/1.csv"
   ]
  },
  {
   "cell_type": "markdown",
   "metadata": {},
   "source": [
    "(a) Calculate the maximum likelihood parameters, given the above data.\n",
    "\n",
    "(b) Calculate the posterior distribution $P(\\theta_1, \\theta_2, \\theta_3, \\theta_4 | D)$ considering the prior $Dir(\\alpha_1, \\alpha_2, \\alpha_3, \\alpha_4)$, with\n",
    "- $\\alpha_1 = \\alpha_2 = \\alpha_3 = \\alpha_4 = 1$, i.e., the uniform prior and\n",
    "- $\\alpha_1 = \\alpha_2 = \\alpha_3 = \\alpha_4 = 0.5$, i.e., the Jeffrey's prior.\n",
    "\n",
    "For both, report the mean. \n",
    "\n",
    "(c) Using Bayesian inference with the uniform prior, calculate the predictive distribution (all 4 probabilities) of the next result given $D$.\n",
    "\n",
    "(d) Let $\\alpha_4$, the 4th hyperparameter to the Dirichlet prior be 3. Specify $\\alpha_1$, $\\alpha_2$ and $\\alpha_3$ such that the mode of the posterior distribution is at $\\theta_1 = \\theta_2 = \\theta_3 = \\theta_4$.\n"
   ]
  },
  {
   "cell_type": "code",
   "execution_count": 3,
   "metadata": {
    "scrolled": true
   },
   "outputs": [
    {
     "data": {
      "text/html": [
       "<div>\n",
       "<style scoped>\n",
       "    .dataframe tbody tr th:only-of-type {\n",
       "        vertical-align: middle;\n",
       "    }\n",
       "\n",
       "    .dataframe tbody tr th {\n",
       "        vertical-align: top;\n",
       "    }\n",
       "\n",
       "    .dataframe thead th {\n",
       "        text-align: right;\n",
       "    }\n",
       "</style>\n",
       "<table border=\"1\" class=\"dataframe\">\n",
       "  <thead>\n",
       "    <tr style=\"text-align: right;\">\n",
       "      <th></th>\n",
       "      <th>side</th>\n",
       "      <th>counts</th>\n",
       "    </tr>\n",
       "  </thead>\n",
       "  <tbody>\n",
       "    <tr>\n",
       "      <th>0</th>\n",
       "      <td>1</td>\n",
       "      <td>5</td>\n",
       "    </tr>\n",
       "    <tr>\n",
       "      <th>1</th>\n",
       "      <td>2</td>\n",
       "      <td>3</td>\n",
       "    </tr>\n",
       "    <tr>\n",
       "      <th>2</th>\n",
       "      <td>3</td>\n",
       "      <td>7</td>\n",
       "    </tr>\n",
       "    <tr>\n",
       "      <th>3</th>\n",
       "      <td>4</td>\n",
       "      <td>5</td>\n",
       "    </tr>\n",
       "  </tbody>\n",
       "</table>\n",
       "</div>"
      ],
      "text/plain": [
       "   side  counts\n",
       "0     1       5\n",
       "1     2       3\n",
       "2     3       7\n",
       "3     4       5"
      ]
     },
     "execution_count": 3,
     "metadata": {},
     "output_type": "execute_result"
    }
   ],
   "source": [
    "data = \"data/1.csv\"\n",
    "df = pd.read_csv(data, sep='\\t')\n",
    "df"
   ]
  },
  {
   "cell_type": "markdown",
   "metadata": {},
   "source": [
    "### Answers\n",
    "\n",
    "(a) Let $i \\in \\{1,2,3,4\\}$ (the different sides) and $\\theta_i = p_i$. \n",
    "\n",
    "Let $\\mathbf{p} = \\{p_i\\}$ such that $\\sum_{i} p_{i}=1$ and $n=20$ be the parameters of the multinomial distribution. And $x_i$ the number of time that side $i$ was counted such that $\\sum_{i} x_{i}=n$.\n",
    "\n",
    "The multinomial distribution with this parameters is defined by: \n",
    "\n",
    "$f_{\\mathrm{p}}(\\mathrm{n})=n ! \\cdot \\prod_{i} \\frac{p_{i}^{x_{i}}}{x_{i} !}$\n",
    "\n",
    "and the likelihood is then:\n",
    "\n",
    "$L(\\mathbf{p})=f_{\\mathbf{p}}(\\mathbf{n})$. \n",
    "\n",
    "We have the constraint $C(\\mathbf{p})=\\sum_{i} p_{i}=1$. So, to maximize $L$, we can use Lagrange multipliers method. Gradient of $L$ and $C$ have to be colinear:\n",
    "\n",
    "$\\frac{\\partial}{\\partial p_{i}} L(\\mathbf{p})=\\lambda \\frac{\\partial}{\\partial p_{i}} C(\\mathbf{p})$\n",
    "\n",
    "Which is deriving:\n",
    "\n",
    "$\\frac{x_{i}}{p_{i}} L(\\mathbf{p})=\\lambda$\n",
    "\n",
    "As $C(\\mathbf{p})=1$ and $x_i$ is proportional to $p_i$ by the above formula, we finally get that:\n",
    "\n",
    "$\\hat{p}_{i}=\\frac{x_{i}}{n}$"
   ]
  },
  {
   "cell_type": "code",
   "execution_count": 4,
   "metadata": {},
   "outputs": [
    {
     "name": "stdout",
     "output_type": "stream",
     "text": [
      "0.25\n",
      "0.15\n",
      "0.35\n",
      "0.25\n"
     ]
    }
   ],
   "source": [
    "total = df['counts'].sum()\n",
    "for c in df['counts']:\n",
    "    print(c/total)"
   ]
  },
  {
   "cell_type": "markdown",
   "metadata": {},
   "source": [
    "(b) Dirichlet prior:\n",
    "\n",
    "$Dir(\\mathbf{p}; \\alpha_1, \\alpha_2, \\alpha_3, \\alpha_4)=\\frac{\\Gamma\\left(\\sum_{i=1}^{K} \\alpha_{i}\\right)}{\\prod_{i=1}^{K} \\Gamma\\left(\\alpha_{i}\\right)} \\prod_{i=1}^{K} p_{i}^{\\alpha_{i}-1}$\n",
    "\n",
    "Dirichlet posterior (proportional to the prior, same type of distribution with different parameters):\n",
    "\n",
    "$P(\\mathbf{p} | D) = Dirichlet(\\mathbf{p}; \\alpha_1 + x_1, \\alpha_2 + x_2, . . . , \\alpha_k + x_k )$\n",
    "\n",
    "The mean of a Dirichlet is:\n",
    "\n",
    "$\\mathrm{E}\\left[X_{i}\\right]=\\frac{\\alpha_{i}}{\\sum_{k=1}^{K} \\alpha_{k}}$"
   ]
  },
  {
   "cell_type": "code",
   "execution_count": 5,
   "metadata": {},
   "outputs": [
    {
     "name": "stdout",
     "output_type": "stream",
     "text": [
      "0.25\n",
      "0.16666666666666666\n",
      "0.3333333333333333\n",
      "0.25\n"
     ]
    }
   ],
   "source": [
    "alpha = 1 #uniform prior\n",
    "for c in df['counts']:\n",
    "    print((c+alpha)/(total+4*alpha))"
   ]
  },
  {
   "cell_type": "code",
   "execution_count": 6,
   "metadata": {
    "scrolled": true
   },
   "outputs": [
    {
     "name": "stdout",
     "output_type": "stream",
     "text": [
      "0.25\n",
      "0.1590909090909091\n",
      "0.3409090909090909\n",
      "0.25\n"
     ]
    }
   ],
   "source": [
    "alpha = 0.5 #jeffreys prior\n",
    "for c in df['counts']:\n",
    "    print((c+alpha)/(total+4*alpha))"
   ]
  },
  {
   "cell_type": "markdown",
   "metadata": {},
   "source": [
    "(c) Predicition by model averaging (same as the mean for the Dirichlet with these new parameters):\n",
    "\n",
    "$P(X=i|D,\\alpha) = \\frac{\\alpha_i+x_i}{\\sum_{i} \\alpha_{i}+x_i}$\n",
    "\n",
    "So the results are the same as in (b) with uniform prior."
   ]
  },
  {
   "cell_type": "markdown",
   "metadata": {},
   "source": [
    "(d) The mode of this Dirichlet is \n",
    "\n",
    "$\\theta_{i}=\\frac{\\alpha_{i}+x_i-1}{\\sum_{k=1}^{4} \\alpha_{k}+x_i-4}$\n",
    "\n",
    "Having $\\alpha_4=3$, for all the $\\theta_{i}$ to be the same we need: \n",
    "\n",
    "$\\theta_4=\\frac{\\alpha_{4}+x_4-1}{\\sum_{k=1}^{4} \\alpha_{k}+x_i-4} = \\frac{3+5-1}{\\sum_{k=1}^{4} \\alpha_{k}+x_i-4}=\\theta_1=\\theta_2=\\theta_3$\n",
    "\n",
    "Then,\n",
    "\n",
    "$\\alpha_1+x_1=\\alpha_2+x_2=\\alpha_3+x_3= 5+3$, as $ \\alpha_4+x_4= 5+3$.\n",
    "\n",
    "$\\alpha_1+5=\\alpha_2+3=\\alpha_3+7=8$ \n",
    "\n",
    "Thus,\n",
    "\n",
    "$\\alpha_1=3, \\alpha_2=5, \\alpha_3=1$."
   ]
  },
  {
   "cell_type": "markdown",
   "metadata": {},
   "source": [
    "## Exercise 2\n",
    "***\n",
    "\n",
    "Show by using the d-separation criterion that a node in a Bayesian network is conditionally independent of all the other nodes, given its (minimal) Markov blanket (parents, children, spouses (parents of children)). \n",
    "\n",
    "Give the answer verbally in Moodle. It will be checked manually. For your own future reference it's a good idea to paste the answer here, too. "
   ]
  },
  {
   "cell_type": "markdown",
   "metadata": {},
   "source": [
    "### Answers\n",
    "\n",
    "#### d-separation criterion\n",
    "If $X$, $Y$, and $Z$ are three disjoint subsets of nodes in a DAG $G$, then $Z$ is said to d-separate $X$ and $Y$, if there is no path between a node in $X$ and a node in $Y$ along which the following two conditions hold:\n",
    "1. every node with converging arrows (→ $V$ ←) is in $Z$ or has a descendant in $Z$.\n",
    "2. every other node is outside $Z$.\n",
    "\n",
    "We know that if $X \\perp \\!\\!\\! \\perp G Y|Z$, $X$ is blocked from $Y$ by $Z$, $X$ and $Y$ are d-separated.\n",
    "\n",
    "#### Markov blanket\n",
    "\n",
    "The Markov blanket for bayesian networks is formed by the parents, children and spouses (variable $Y$ is a spouse of $X$ if the two variables have a common child in DAG $G$) of a node $X$.\n",
    "\n",
    "\n",
    "#### Proof\n",
    "\n",
    "We want $X$ to be independent of $Y \\neq X$ given its Markov blanket $B$ (parents, children and spouses) and $Y \\notin B$, meaning:\n",
    "\n",
    "$X \\perp \\!\\!\\! \\perp Y | B$\n",
    "\n",
    "* If there is a parent between them, the path is blocked.\n",
    "\n",
    "* If there is a child between them, the path is blocked or $Y$ is a spouse (but $Y \\notin B$ so it is a contradiction).\n",
    "\n",
    "* If there is a spouse between them, the path is blocked.\n",
    "\n",
    "$\\square$"
   ]
  },
  {
   "cell_type": "markdown",
   "metadata": {},
   "source": [
    "## Exercise 3\n",
    "***\n",
    "\n",
    "Consider the following BN structure. Answer the following queries and questions, justifying your answers.\n",
    "\n",
    "![](2.3.svg)\n",
    "\n",
    "(a) Decide whether the following d-separations hold or not. \n",
    "- $G \\mathrel{\\unicode{x2AEB}}_{G} D \\mid A, E$\n",
    "- $D \\mathrel{\\unicode{x2AEB}}_{G} F$\n",
    "- $H \\mathrel{\\unicode{x2AEB}}_{G} B \\mid G, C$\n",
    "- $G \\mathrel{\\unicode{x2AEB}}_{G} H \\mid A, F$\n",
    "\n",
    "(b) Construct a Markov equivalent DAG (other than the given), and return it to Moodle in the format specified at the top of the notebook. How many equivalent DAGs are there in total (including the given one)?\n",
    "\n",
    "(c) Suppose all variables in this network are binary. How many free parameters are needed to parameterize this network?"
   ]
  },
  {
   "cell_type": "markdown",
   "metadata": {},
   "source": [
    "### Answers"
   ]
  },
  {
   "cell_type": "markdown",
   "metadata": {},
   "source": [
    "(a)\n",
    "* False: cannot guarantee independence. There exists an active path: G → F → B → $A$ ← C → D.\n",
    "* True: all possible paths are blocked by F → B ← E and B → A ← C.\n",
    "* False: cannot guarantee independence. There exists an active path: H → E → B.\n",
    "* True: all possible paths are blocked by G → $F$ → B."
   ]
  },
  {
   "cell_type": "markdown",
   "metadata": {},
   "source": [
    "(b)"
   ]
  },
  {
   "cell_type": "code",
   "execution_count": 7,
   "metadata": {},
   "outputs": [
    {
     "name": "stdout",
     "output_type": "stream",
     "text": [
      "0110000000001100000010000010000000000001000000000000010000000000\n"
     ]
    }
   ],
   "source": [
    "# Adjacency matrix\n",
    "rvs = [\"A\", \"B\", \"C\", \"D\", \"E\", \"F\", \"G\", \"H\"]\n",
    "DAG = pd.DataFrame(0, index=rvs, columns=rvs)\n",
    "\n",
    "DAG.loc['A', ['B', 'C']] = 1\n",
    "DAG.loc['B', ['E', 'F']] = 1\n",
    "DAG.loc['C', 'E'] = 1\n",
    "DAG.loc['D', 'C'] = 1\n",
    "DAG.loc['E', 'H'] = 1\n",
    "DAG.loc['G', 'F'] = 1 # direction changed in this one\n",
    "\n",
    "# Create the vector\n",
    "print(mat2vec(DAG))"
   ]
  },
  {
   "cell_type": "markdown",
   "metadata": {},
   "source": [
    "There are 8 equivalent DAGs. We have to be careful with immoralities: \n",
    "\n",
    "* F → B ← E and B → A ← C must remain the same.\n",
    "* We must be careful to not create immoralities between H E C D nodes (H → E ← C and E → C ← D, 2 posibilities).\n",
    "\n",
    "$\\frac{2^4}{2}=8$"
   ]
  },
  {
   "cell_type": "markdown",
   "metadata": {},
   "source": [
    "(c) Given the factorization (calculated in the next exercise): P(A|B,C)P(B|E,F)P(C|E)P(D|C)P(E|H)P(F|G)P(G)P(H)."
   ]
  },
  {
   "cell_type": "code",
   "execution_count": 8,
   "metadata": {},
   "outputs": [
    {
     "name": "stdout",
     "output_type": "stream",
     "text": [
      "18 free variables needed.\n"
     ]
    }
   ],
   "source": [
    "print(2*4+4*2+2*1, 'free variables needed.')"
   ]
  },
  {
   "cell_type": "markdown",
   "metadata": {},
   "source": [
    "## Exercise 4\n",
    "***\n",
    "\n",
    "Consider again the DAG in Exercise 3.\n",
    "\n",
    "a) What is the factorization implied by the DAG?\n",
    "\n",
    "Return the factorization in Moodle in plain text in the exact same format as the example: `P(A,B,C)P(B,C|D)P(C|E,F)`. Here\n",
    "- a set of variables $\\{ B, A, C \\}$ is encoded as `A,B,C` (note the alphabetical order);\n",
    "- the factors themselves are in alphabetical order, so not `P(B)P(A)` but `P(A)P(B)`, not `P(A|C)P(A|B)` but `P(A|B)P(A|C)`.\n",
    "\n",
    "b) Which of the following independencies are stated by the local Markov condition asserted by the DAG?\n",
    "\n",
    "- $G \\mathrel{\\unicode{x2AEB}} H$\n",
    "- $D \\mathrel{\\unicode{x2AEB}} F$\n",
    "- $E \\mathrel{\\unicode{x2AEB}} A \\mid H$\n",
    "- $B \\mathrel{\\unicode{x2AEB}} H \\mid F, G$"
   ]
  },
  {
   "cell_type": "markdown",
   "metadata": {},
   "source": [
    "### Answers\n",
    "\n",
    "(a) P(A|B,C)P(B|E,F)P(C|E)P(D|C)P(E|H)P(F|G)P(G)P(H)\n",
    "\n",
    "(b) Local Markov: for any $X$, $X  \\perp \\!\\!\\! \\perp Nondesc(X)|Pa(X)$ holds.\n",
    "\n",
    "* True: $G$ independent with $H$ (a non descendant) given parents (no parents).\n",
    "* False: parents of $D$ are not given.\n",
    "* False: $A \\in descendants(E)$.\n",
    "* False: $B$ has more parents that are not given."
   ]
  },
  {
   "cell_type": "markdown",
   "metadata": {},
   "source": [
    "## Exercise 5\n",
    "***\n",
    "\n",
    "Consider the following DAG: $X \\rightarrow Y \\rightarrow Z$.\n",
    "\n",
    "(a) Suppose the variables are binary and another, equivalent DAG encodes the same joint distribution with the following parameters:\n",
    "\n",
    "\\begin{aligned}\n",
    "P(Y = 1) = 0.3 \\\\\n",
    "P(X = 1 | Y = 1) = 0.2 \\\\\n",
    "P(X = 1 | Y = 0) = 0.8 \\\\\n",
    "P(Z = 1 | Y = 1) = 0.8 \\\\\n",
    "P(Z = 1 | Y = 0) = 0.2 \\\\\n",
    "\\end{aligned}\n",
    "\n",
    "Give the parameters corresponding to the first DAG.\n",
    "\n",
    "(b) What values do the variables take at the mode of the joint distribution?\n",
    "\n",
    "(c) Compute the marginal probabilities $P(X)$, $P(Y)$, $P(Z)$ and their respective most probable arguments (which value for each random variable gets the highest probability)."
   ]
  },
  {
   "cell_type": "markdown",
   "metadata": {},
   "source": [
    "### Answers"
   ]
  },
  {
   "cell_type": "markdown",
   "metadata": {},
   "source": [
    "Using \n",
    "\n",
    "$P(A)=\\sum_{i}P(A|B_i)P(B_i)$,\n",
    "\n",
    "$P(A|B)=\\frac{P(B|A)P(A)}{P(B)}$,\n",
    "\n",
    "$P(C,x_1,x_2,...x_n)= P(C) \\prod_{i=1}^{n}P(x_i| C)$,\n",
    "\n",
    "and the data given:"
   ]
  },
  {
   "cell_type": "code",
   "execution_count": 9,
   "metadata": {},
   "outputs": [],
   "source": [
    "def pY(y):\n",
    "    if y==1: \n",
    "        return 0.3\n",
    "    elif y==0: \n",
    "        return 1-0.3\n",
    "def pXCondY(x,y):\n",
    "    if x==1 and y==1:\n",
    "        return 0.2\n",
    "    if x==0 and y==1:\n",
    "        return 1-0.2\n",
    "    if x==1 and y==0: \n",
    "        return 0.8\n",
    "    if x==0 and y==0: \n",
    "        return 1-0.8\n",
    "\n",
    "def pZCondY(z,y):\n",
    "    if z==1 and y==1: \n",
    "        return 0.8\n",
    "    if z==0 and y==1: \n",
    "        return 1-0.8\n",
    "    if z==1 and y==0: \n",
    "        return 0.2\n",
    "    if z==0 and y==0: \n",
    "        return 1-0.2\n",
    "    \n",
    "def pX(x):\n",
    "    pX1 = pXCondY(1,0)*pY(0)+pXCondY(1,1)*pY(1)\n",
    "    if x==1:\n",
    "        return pX1\n",
    "    if x==0:\n",
    "        return 1-pX1\n",
    "\n",
    "def pZ(x):\n",
    "    pZ1 = pZCondY(1,0)*pY(0)+pZCondY(1,1)*pY(1)\n",
    "    if x==1:\n",
    "        return pZ1\n",
    "    if x==0:\n",
    "        return 1-pZ1\n",
    "    \n",
    "def pYCondX(y,x):\n",
    "    pY1CondX1 = pXCondY(1,1)*pY(1)/pX(1)\n",
    "    pY1CondX0 = pXCondY(0,1)*pY(1)/pX(0)\n",
    "    if y==1 and x==1:\n",
    "        return pY1CondX1\n",
    "    if y==0 and x==1:\n",
    "        return 1-pY1CondX1\n",
    "    if y==1 and x==0:\n",
    "        return pY1CondX0\n",
    "    if y==0 and x==0:\n",
    "        return 1-pY1CondX0\n",
    "\n",
    "def pXIYIZ(x,y,z):\n",
    "    return pY(y)*pXCondY(x,y)*pZCondY(z,y) #we have the conditional for X and Z given Y"
   ]
  },
  {
   "cell_type": "markdown",
   "metadata": {},
   "source": [
    "(a)"
   ]
  },
  {
   "cell_type": "code",
   "execution_count": 10,
   "metadata": {},
   "outputs": [
    {
     "name": "stdout",
     "output_type": "stream",
     "text": [
      "P(X=1)= 0.6199999999999999\n",
      "P(Y=1|X=0)= 0.6315789473684208\n",
      "P(Y=1|X=1)= 0.09677419354838711\n",
      "P(Z=1|Y=0)= 0.2\n",
      "P(Z=1|Y=1)= 0.8\n"
     ]
    }
   ],
   "source": [
    "print('P(X=1)=', pX(1))\n",
    "print('P(Y=1|X=0)=', pYCondX(1,0))\n",
    "print('P(Y=1|X=1)=', pYCondX(1,1))\n",
    "print('P(Z=1|Y=0)=', pZCondY(1,0))\n",
    "print('P(Z=1|Y=1)=', pZCondY(1,1))"
   ]
  },
  {
   "cell_type": "markdown",
   "metadata": {},
   "source": [
    "(b)"
   ]
  },
  {
   "cell_type": "code",
   "execution_count": 11,
   "metadata": {},
   "outputs": [
    {
     "name": "stdout",
     "output_type": "stream",
     "text": [
      "0 0 0   0.11199999999999997\n",
      "0 0 1   0.027999999999999994\n",
      "0 1 0   0.04799999999999999\n",
      "0 1 1   0.192\n",
      "1 0 0   0.44799999999999995\n",
      "1 0 1   0.11199999999999999\n",
      "1 1 0   0.011999999999999997\n",
      "1 1 1   0.048\n",
      "Max: 1 0 0   0.44799999999999995\n"
     ]
    }
   ],
   "source": [
    "maxi = 0\n",
    "x_max = -1\n",
    "y_max = -1\n",
    "z_max = -1\n",
    "for x in range(2):\n",
    "    for y in range(2):\n",
    "        for z in range(2):\n",
    "            prob = pXIYIZ(x,y,z)\n",
    "            if prob > maxi:\n",
    "                maxi = prob\n",
    "                x_max = x\n",
    "                y_max = y\n",
    "                z_max = z\n",
    "            print(x,y,z,' ',prob)\n",
    "print('Max:',x_max,y_max,z_max, ' ', maxi)"
   ]
  },
  {
   "cell_type": "markdown",
   "metadata": {},
   "source": [
    "(c)"
   ]
  },
  {
   "cell_type": "code",
   "execution_count": 12,
   "metadata": {},
   "outputs": [
    {
     "name": "stdout",
     "output_type": "stream",
     "text": [
      "P(X=1)= 0.6199999999999999\n",
      "P(Y=1)= 0.3\n",
      "P(Z=1)= 0.38\n"
     ]
    }
   ],
   "source": [
    "print('P(X=1)=', pX(1))\n",
    "print('P(Y=1)=', pY(1))\n",
    "print('P(Z=1)=', pZ(1))"
   ]
  },
  {
   "cell_type": "markdown",
   "metadata": {},
   "source": [
    "## Exercise 6\n",
    "***\n",
    "\n",
    "Faithfulness. Consider a DAG $X \\rightarrow Y$ over binary random variables $X,Y$.\n",
    "\n",
    "(a) Give parameters for a BN over the DAG such that we have $X \\mathrel{\\unicode{x2AEB}} Y$ (conditional independence).\n",
    "\n",
    "(b) Give parameters for a BN over the DAG such that we have $X \\not\\mathrel{\\unicode{x2AEB}} Y$.\n",
    "\n",
    "(c) Take the parameters in (a), add small random noise to the parameters and renormalize the probabilities such that you have a (valid) BN. Do you still have $X \\mathrel{\\unicode{x2AEB}} Y$?\n",
    "\n",
    "(d) Does any of this contradict the soundness and completeness of d-separation? Why?\n",
    "\n",
    "For each part give a short verbal answer in Moodle, e.g., \"P(X = 1) = x, P(Y = 1 | X = 1) = y, P(Y = 1 | X = 0) = z  ...\". They will be graded manually."
   ]
  },
  {
   "cell_type": "markdown",
   "metadata": {},
   "source": [
    "### Answers\n",
    "\n",
    "(a) For $X \\mathrel{\\unicode{x2AEB}} Y$ we can have that $P(X | Y) = P(X)$. So, for instance: \n",
    "\n",
    "$P(X=1)=0.5$ and $P(X=1|Y=0)=P(X=1|Y=1)=0.5$.\n",
    "\n",
    "(b) We want the opposite thing, for example:\n",
    "\n",
    "$P(X=1)=0.5$, $P(X=1|Y=0)=0.6$ and $P(X=1|Y=1)=0.4$. Then $P(X | Y) = P(X)$ doesn't hold.\n",
    "\n",
    "(c) With noise the independence most likely won't hold: it will be more difficult that $P(X | Y) = P(X)$ still holds as it is an equality. With small perturbations of the parameters, independencies are usually destroyed.\n",
    "\n",
    "(d) We are not using d-separation to prove independence in these examples, so it doesn't contradict. Furthermore, it shows that adding unfaithful independencies to the BN requires fine hand-tuning of the parameters."
   ]
  }
 ],
 "metadata": {
  "kernelspec": {
   "display_name": "Python 3",
   "language": "python",
   "name": "python3"
  },
  "language_info": {
   "codemirror_mode": {
    "name": "ipython",
    "version": 3
   },
   "file_extension": ".py",
   "mimetype": "text/x-python",
   "name": "python",
   "nbconvert_exporter": "python",
   "pygments_lexer": "ipython3",
   "version": "3.8.5"
  },
  "toc": {
   "base_numbering": 1,
   "nav_menu": {},
   "number_sections": true,
   "sideBar": true,
   "skip_h1_title": false,
   "title_cell": "Table of Contents",
   "title_sidebar": "Contents",
   "toc_cell": false,
   "toc_position": {},
   "toc_section_display": true,
   "toc_window_display": false
  }
 },
 "nbformat": 4,
 "nbformat_minor": 4
}
