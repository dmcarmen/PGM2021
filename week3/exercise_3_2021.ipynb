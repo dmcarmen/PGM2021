{
 "cells": [
  {
   "cell_type": "markdown",
   "metadata": {},
   "source": [
    "# Probabilistic Models – Spring 2021\n",
    "## Exercise Session 3\n",
    "Feb 10rd 16.15\n",
    "\n",
    "<span style=\"color:red\">**Carmen Díez**</span>\n",
    "\n",
    "### Instructions\n",
    "Make sure the notebook produces correct results when ran sequentially starting from the first cell. You can ensure this by clearing all outputs (`Edit > Clear All Outputs`), running all cells (`Run > Run All Cells`), and finally correcting any errors.\n",
    "\n",
    "To get points:\n",
    "1. Submit your answers to the automatically checked Moodle test. \n",
    " - You have 5 tries on the test: the highest obtained score will be taken into account.\n",
    " - For numerical questions the tolerance is $1\\cdot10^{-4}$.\n",
    "2. Submit this notebook containing your derivations to Moodle.\n",
    "\n",
    "The idea in this exercise is to understand how a naive Bayes classifier and a hidden Markov model work, by implementing them yourself. Therefore, you should not use any libraries providing the models off-the-shelf. Also you should not copy-paste any solutions you might find on the Internet. Doing so you will risk losing the points for the exercise. You can, of course, compare the output of your implementation to any reference implementation."
   ]
  },
  {
   "cell_type": "markdown",
   "metadata": {},
   "source": [
    "## Exercise 1\n",
    "***\n",
    "\n",
    "Consider the following document corpus, where the first column specifies the class of the document and the second column is the document itself.\n"
   ]
  },
  {
   "cell_type": "code",
   "execution_count": 1,
   "metadata": {},
   "outputs": [
    {
     "name": "stdout",
     "output_type": "stream",
     "text": [
      "Class\tText\r\n",
      "spam\tFREE online !!! results\r\n",
      "ham\tresults repository online FREE\r\n",
      "spam\tFREE online results FREE !!! registration\r\n",
      "spam\t!!! registration FREE !!! repository\r\n",
      "ham\tconference online registration conference !!!\r\n",
      "ham\tconference results repository results FREE\r\n"
     ]
    }
   ],
   "source": [
    "!cat data/corpus.txt"
   ]
  },
  {
   "cell_type": "markdown",
   "metadata": {},
   "source": [
    "(a) Construct a multinomial naive Bayes classifier (NBC; p. 24, lecture 5) using the corpus as the training data. Use Laplace smoothing to address the problem of zero probabilities. \n",
    "\n",
    "Report in Moodle:\n",
    "- $P(C=\\text{ham})$,\n",
    "- $P(X=\\text{repository} \\mid C=\\text{spam})$.\n",
    "\n",
    "\n",
    "\n",
    "(b) Use the NBC to calculate the posterior probability for each document that it is spam. \n",
    "\n",
    "Report in Moodle:\n",
    "- the obtained value for the last document in the corpus.\n",
    "\n",
    "(c) Finally, compute and report in Moodle the posterior probabilities for the following documents (not used in the training of the NBC) to be spam:"
   ]
  },
  {
   "cell_type": "code",
   "execution_count": 2,
   "metadata": {},
   "outputs": [
    {
     "name": "stdout",
     "output_type": "stream",
     "text": [
      "Class\tText\r\n",
      "?\tFREE online conference !!! registration\r\n",
      "?\tconference registration results conference online !!!\r\n"
     ]
    }
   ],
   "source": [
    "!cat data/new_emails.txt"
   ]
  },
  {
   "cell_type": "markdown",
   "metadata": {},
   "source": [
    "For each question asking for a posterior probability, remember to normalize so that your posterior probabilities sum up to 1."
   ]
  },
  {
   "cell_type": "code",
   "execution_count": 3,
   "metadata": {},
   "outputs": [],
   "source": [
    "import pandas as pd\n",
    "import numpy as np"
   ]
  },
  {
   "cell_type": "code",
   "execution_count": 4,
   "metadata": {},
   "outputs": [
    {
     "data": {
      "text/plain": [
       "['repository',\n",
       " 'online',\n",
       " 'registration',\n",
       " 'FREE',\n",
       " 'results',\n",
       " '!!!',\n",
       " 'conference']"
      ]
     },
     "execution_count": 4,
     "metadata": {},
     "output_type": "execute_result"
    }
   ],
   "source": [
    "# Total count of words\n",
    "data = 'data/corpus.txt'\n",
    "f = open(data, 'r')\n",
    "lines = f.readlines()[1:]\n",
    "ham = []\n",
    "spam = []\n",
    "for line in lines:\n",
    "    lSplit = line.split()\n",
    "    if lSplit[0] == 'ham':\n",
    "        ham += lSplit[1:]\n",
    "    elif lSplit[0] == 'spam':\n",
    "        spam += lSplit[1:]\n",
    "NHam = 3\n",
    "NSpam = 3\n",
    "N = 6\n",
    "words = list(set(ham+spam))\n",
    "lenWords = len(words)\n",
    "words"
   ]
  },
  {
   "cell_type": "code",
   "execution_count": 5,
   "metadata": {},
   "outputs": [
    {
     "data": {
      "text/html": [
       "<div>\n",
       "<style scoped>\n",
       "    .dataframe tbody tr th:only-of-type {\n",
       "        vertical-align: middle;\n",
       "    }\n",
       "\n",
       "    .dataframe tbody tr th {\n",
       "        vertical-align: top;\n",
       "    }\n",
       "\n",
       "    .dataframe thead th {\n",
       "        text-align: right;\n",
       "    }\n",
       "</style>\n",
       "<table border=\"1\" class=\"dataframe\">\n",
       "  <thead>\n",
       "    <tr style=\"text-align: right;\">\n",
       "      <th></th>\n",
       "      <th>word</th>\n",
       "      <th>spam</th>\n",
       "      <th>ham</th>\n",
       "    </tr>\n",
       "  </thead>\n",
       "  <tbody>\n",
       "    <tr>\n",
       "      <th>0</th>\n",
       "      <td>repository</td>\n",
       "      <td>1</td>\n",
       "      <td>2</td>\n",
       "    </tr>\n",
       "    <tr>\n",
       "      <th>1</th>\n",
       "      <td>online</td>\n",
       "      <td>2</td>\n",
       "      <td>2</td>\n",
       "    </tr>\n",
       "    <tr>\n",
       "      <th>2</th>\n",
       "      <td>registration</td>\n",
       "      <td>2</td>\n",
       "      <td>1</td>\n",
       "    </tr>\n",
       "    <tr>\n",
       "      <th>3</th>\n",
       "      <td>FREE</td>\n",
       "      <td>4</td>\n",
       "      <td>2</td>\n",
       "    </tr>\n",
       "    <tr>\n",
       "      <th>4</th>\n",
       "      <td>results</td>\n",
       "      <td>2</td>\n",
       "      <td>3</td>\n",
       "    </tr>\n",
       "    <tr>\n",
       "      <th>5</th>\n",
       "      <td>!!!</td>\n",
       "      <td>4</td>\n",
       "      <td>1</td>\n",
       "    </tr>\n",
       "    <tr>\n",
       "      <th>6</th>\n",
       "      <td>conference</td>\n",
       "      <td>0</td>\n",
       "      <td>3</td>\n",
       "    </tr>\n",
       "  </tbody>\n",
       "</table>\n",
       "</div>"
      ],
      "text/plain": [
       "           word spam ham\n",
       "0    repository    1   2\n",
       "1        online    2   2\n",
       "2  registration    2   1\n",
       "3          FREE    4   2\n",
       "4       results    2   3\n",
       "5           !!!    4   1\n",
       "6    conference    0   3"
      ]
     },
     "execution_count": 5,
     "metadata": {},
     "output_type": "execute_result"
    }
   ],
   "source": [
    "columns = ['word','spam', 'ham']\n",
    "df = pd.DataFrame(columns=columns)\n",
    "for w in words:\n",
    "    nS = spam.count(w)\n",
    "    nH = ham.count(w)\n",
    "    df = df.append({'word': w, 'spam': nS, 'ham': nH}, ignore_index=True)\n",
    "df"
   ]
  },
  {
   "cell_type": "code",
   "execution_count": 6,
   "metadata": {},
   "outputs": [],
   "source": [
    "denomHam = df['ham'].sum() + lenWords\n",
    "denomSpam = df['spam'].sum() + lenWords"
   ]
  },
  {
   "cell_type": "code",
   "execution_count": 7,
   "metadata": {},
   "outputs": [
    {
     "data": {
      "text/html": [
       "<div>\n",
       "<style scoped>\n",
       "    .dataframe tbody tr th:only-of-type {\n",
       "        vertical-align: middle;\n",
       "    }\n",
       "\n",
       "    .dataframe tbody tr th {\n",
       "        vertical-align: top;\n",
       "    }\n",
       "\n",
       "    .dataframe thead th {\n",
       "        text-align: right;\n",
       "    }\n",
       "</style>\n",
       "<table border=\"1\" class=\"dataframe\">\n",
       "  <thead>\n",
       "    <tr style=\"text-align: right;\">\n",
       "      <th></th>\n",
       "      <th>word</th>\n",
       "      <th>spam</th>\n",
       "      <th>ham</th>\n",
       "    </tr>\n",
       "  </thead>\n",
       "  <tbody>\n",
       "    <tr>\n",
       "      <th>0</th>\n",
       "      <td>repository</td>\n",
       "      <td>0.090909</td>\n",
       "      <td>0.142857</td>\n",
       "    </tr>\n",
       "    <tr>\n",
       "      <th>1</th>\n",
       "      <td>online</td>\n",
       "      <td>0.136364</td>\n",
       "      <td>0.142857</td>\n",
       "    </tr>\n",
       "    <tr>\n",
       "      <th>2</th>\n",
       "      <td>registration</td>\n",
       "      <td>0.136364</td>\n",
       "      <td>0.095238</td>\n",
       "    </tr>\n",
       "    <tr>\n",
       "      <th>3</th>\n",
       "      <td>FREE</td>\n",
       "      <td>0.227273</td>\n",
       "      <td>0.142857</td>\n",
       "    </tr>\n",
       "    <tr>\n",
       "      <th>4</th>\n",
       "      <td>results</td>\n",
       "      <td>0.136364</td>\n",
       "      <td>0.190476</td>\n",
       "    </tr>\n",
       "    <tr>\n",
       "      <th>5</th>\n",
       "      <td>!!!</td>\n",
       "      <td>0.227273</td>\n",
       "      <td>0.095238</td>\n",
       "    </tr>\n",
       "    <tr>\n",
       "      <th>6</th>\n",
       "      <td>conference</td>\n",
       "      <td>0.045455</td>\n",
       "      <td>0.190476</td>\n",
       "    </tr>\n",
       "    <tr>\n",
       "      <th>7</th>\n",
       "      <td>P(C)</td>\n",
       "      <td>0.5</td>\n",
       "      <td>0.5</td>\n",
       "    </tr>\n",
       "  </tbody>\n",
       "</table>\n",
       "</div>"
      ],
      "text/plain": [
       "           word      spam       ham\n",
       "0    repository  0.090909  0.142857\n",
       "1        online  0.136364  0.142857\n",
       "2  registration  0.136364  0.095238\n",
       "3          FREE  0.227273  0.142857\n",
       "4       results  0.136364  0.190476\n",
       "5           !!!  0.227273  0.095238\n",
       "6    conference  0.045455  0.190476\n",
       "7          P(C)       0.5       0.5"
      ]
     },
     "execution_count": 7,
     "metadata": {},
     "output_type": "execute_result"
    }
   ],
   "source": [
    "dfProbs = df.copy()\n",
    "for i in df.index:\n",
    "    dfProbs.at[i, 'ham'] = (df.at[i, 'ham'] + 1)/(denomHam)\n",
    "    dfProbs.at[i, 'spam'] = (df.at[i, 'spam'] + 1)/(denomSpam)\n",
    "dfProbs = dfProbs.append({'word': 'P(C)', 'spam': (NSpam+1)/(N+2), 'ham': (NHam+1)/(N+2)}, ignore_index=True)\n",
    "dfProbs"
   ]
  },
  {
   "cell_type": "code",
   "execution_count": 8,
   "metadata": {},
   "outputs": [],
   "source": [
    "def PWordCondClass(w, cl):\n",
    "    return dfProbs[dfProbs['word'] == w][cl].item()\n",
    "def PClass(cl):\n",
    "    return dfProbs[dfProbs['word'] == 'P(C)'][cl].item()"
   ]
  },
  {
   "cell_type": "code",
   "execution_count": 9,
   "metadata": {
    "scrolled": true
   },
   "outputs": [
    {
     "name": "stdout",
     "output_type": "stream",
     "text": [
      "P(C=Ham)= 0.5\n"
     ]
    }
   ],
   "source": [
    "print('P(C=Ham)=', PClass('ham'))"
   ]
  },
  {
   "cell_type": "code",
   "execution_count": 10,
   "metadata": {},
   "outputs": [
    {
     "name": "stdout",
     "output_type": "stream",
     "text": [
      "P(X=repository|C=Spam)= 0.09090909090909091\n"
     ]
    }
   ],
   "source": [
    "pRepoCondSpam = PWordCondClass('repository', 'spam')\n",
    "print('P(X=repository|C=Spam)=', pRepoCondSpam)"
   ]
  },
  {
   "cell_type": "code",
   "execution_count": 11,
   "metadata": {},
   "outputs": [],
   "source": [
    "def PClassCondData(cl, data):\n",
    "    prob = 1\n",
    "    for w in data:\n",
    "        prob = prob*PWordCondClass(w, cl)\n",
    "    return prob*PClass(cl)\n",
    "\n",
    "def posteriorSpam(data):\n",
    "    pSpamCondData = PClassCondData('spam', data)\n",
    "    pHamCondData = PClassCondData('ham', data)\n",
    "    print('P(C=Spam,D)=', pSpamCondData)\n",
    "    print('P(C=Ham,D)=', pHamCondData)\n",
    "\n",
    "    norm = 1/(pSpamCondData+pHamCondData)\n",
    "    print('P(C=Spam|D)=', pSpamCondData*norm)\n",
    "    print('P(C=Ham|D)=', pHamCondData*norm)"
   ]
  },
  {
   "cell_type": "code",
   "execution_count": 12,
   "metadata": {},
   "outputs": [
    {
     "name": "stdout",
     "output_type": "stream",
     "text": [
      "P(C=Spam,D)= 8.731706105519368e-06\n",
      "P(C=Ham,D)= 7.051735498216129e-05\n",
      "P(C=Spam|D)= 0.11018056221333225\n",
      "P(C=Ham|D)= 0.8898194377866676\n"
     ]
    }
   ],
   "source": [
    "words2 = lines[-1].split()[1:]\n",
    "posteriorSpam(words2)"
   ]
  },
  {
   "cell_type": "code",
   "execution_count": 13,
   "metadata": {},
   "outputs": [],
   "source": [
    "data2 = 'data/new_emails.txt'\n",
    "f2 = open(data2, 'r')\n",
    "lines2 = f2.readlines()[1:]"
   ]
  },
  {
   "cell_type": "code",
   "execution_count": 14,
   "metadata": {},
   "outputs": [
    {
     "name": "stdout",
     "output_type": "stream",
     "text": [
      "P(C=Spam,D)= 2.1829265263798422e-05\n",
      "P(C=Ham,D)= 1.7629338745540322e-05\n",
      "P(C=Spam|D)= 0.5532194007327792\n",
      "P(C=Ham|D)= 0.4467805992672207\n"
     ]
    }
   ],
   "source": [
    "words3 = lines2[0].split()[1:]\n",
    "posteriorSpam(words3)"
   ]
  },
  {
   "cell_type": "code",
   "execution_count": 15,
   "metadata": {},
   "outputs": [
    {
     "name": "stdout",
     "output_type": "stream",
     "text": [
      "P(C=Spam,D)= 5.953435981035933e-07\n",
      "P(C=Ham,D)= 4.477292379819764e-06\n",
      "P(C=Spam|D)= 0.11736375342023181\n",
      "P(C=Ham|D)= 0.8826362465797684\n"
     ]
    }
   ],
   "source": [
    "words4 = lines2[1].split()[1:]\n",
    "posteriorSpam(words4)"
   ]
  },
  {
   "cell_type": "markdown",
   "metadata": {},
   "source": [
    "## Exercise 2\n",
    "***\n",
    "\n",
    "**NB**: The exercise does not assume knowledge on molecular biology. The description shows one simplified use case for a hidden Markov model.\n",
    "\n",
    "The central dogma of molecular biology (roughly) states that DNA is transcribed into RNA. The RNA is then translated into protein, and proteins perform most of the functions within the cell. A protein is composed of a string of amino acids. While there are about twenty commonly occuring amino acids, and they can be grouped many different ways, we will consider them all to belong to either the Aliphatic or Hydroxyl group (to simplify calculations). This sequence is called the primary structure of the protein. A key factor in understanding the function of a particular protein is its secondary structure, that is, how the amino acids behave in three dimensional space. For example, the following figure shows a cartoon rendering of the secondary structure of a protein.\n",
    "\n",
    "![](secondarystructure.jpg)\n",
    "\n",
    "As the figure suggests, two of the most important features of the seconary structure are $\\alpha$ helices and $\\beta$ sheets. However, it is difficult to assess the secondary structure without expensive experimental techniques such as crystallography. On the other hand, finding the sequence of amino acids in a protein sequence is inexpensive. Consequently, a goal of computational biology is to infer the secondary structure of a protein given its primary structure (the sequence of amino acids).\n",
    "\n",
    "Suppose we conduct a set of costly crystallography experiments and discover the following secondary structures and associated amino acid sequences. $\\alpha$ means $\\alpha~\\text{helix}$, $\\beta$ means $\\beta~\\text{sheet}$, $\\mathtt{A}$ means aliphatic and $\\mathtt{H}$ means hydroxyl. For example, in the first protein (i.e., first row) the second $\\beta$ corresponds to the third $\\mathtt{A}$, because they are both in the third position."
   ]
  },
  {
   "cell_type": "code",
   "execution_count": 16,
   "metadata": {},
   "outputs": [
    {
     "name": "stdout",
     "output_type": "stream",
     "text": [
      "αββααβββ AAAHHHAA\r\n",
      "αααβααβα HHAAHHHA\r\n",
      "βαααββα AAAAHAH\r\n",
      "αββαααβαα AHAAAHAAH\r\n"
     ]
    }
   ],
   "source": [
    "!cat data/sequences.txt"
   ]
  },
  {
   "cell_type": "markdown",
   "metadata": {},
   "source": [
    "(a) Use these sequences to calculate the parameters for a hidden Markov model (HMM) in which the state variables correspond to the secondary structures and the observations correspond to the amino acids. We will use $S_i$ and $O_i$ to denote the secondary structure and the amino acid in position $i$, respectively. Recall that for an HMM, we need:\n",
    "\n",
    "- The prior probabilities for the first state, $S_1$.  In this case, use the observed counts of the first state in each sequence.\n",
    "- The *emission* probabilities, that is, the probability of observing a particular amino acid given the secondary structure.\n",
    "- The *transition* probabilities, that is, the probability of the next state given the current state.\n",
    "\n",
    "In all cases, use Laplace smoothing, as was done in Exercise 1.\n",
    "\n",
    "Report in Moodle:\n",
    "\n",
    "- the prior probability $P(S_1 = \\alpha)$,\n",
    "- the emission probabilities $P(O_i = \\mathtt{A} \\mid S_i = \\alpha)$ and $P(O_i = \\mathtt{H} \\mid S_i = \\beta)$,\n",
    "- the transition probabilities $P(S_{i+1} = \\beta \\mid S_i = \\alpha)$ and $P(S_{i+1} = \\alpha \\mid S_i = \\beta)$.\n",
    "\n",
    "(b) Now, using the HMM, use the foward-backward algorithm to calculate the posterior probabilities over all the secondary structure states, given the following observed amino acid sequence:\n",
    "\n",
    "- $\\mathtt{AHHAAHAAHA}$\n",
    "\n",
    "Report in Moodle:\n",
    "- $P(S_6 = \\alpha \\mid O_{1:10})$, i.e., the posterior probability for the 6th secondary state (corresponding to the third $\\mathtt{H}$ in the sequence) to be $\\alpha$.\n",
    "\n",
    "(c) Finally, implement and use the Viterbi algorithm to calculate the most likely sequence of secondary structure states for the sequence of observations used in (b).\n",
    "\n",
    "Report in Moodle:\n",
    "- The obtained sequence. If there are multiple sequences with equally high likelihood, report any one of them. To avoid possible problems with character encoding use a and b to denote $\\alpha$ and $\\beta$: if you obtain the sequence $\\alpha\\alpha\\alpha\\alpha\\alpha\\beta\\beta\\beta\\beta\\beta$ report it as aaaaabbbbb.\n",
    "\n",
    "Again, remember to normalize so that the posterior probabilities sum up to 1."
   ]
  },
  {
   "cell_type": "code",
   "execution_count": 17,
   "metadata": {},
   "outputs": [],
   "source": [
    "data = 'data/sequences.txt'\n",
    "f = open(data, 'r')\n",
    "lines = f.readlines()"
   ]
  },
  {
   "cell_type": "code",
   "execution_count": 18,
   "metadata": {},
   "outputs": [],
   "source": [
    "alpha = lines[0][0]\n",
    "beta = lines[0][1]\n",
    "secondary = [alpha, beta]\n",
    "amino = ['A', 'H']"
   ]
  },
  {
   "cell_type": "code",
   "execution_count": 19,
   "metadata": {},
   "outputs": [],
   "source": [
    "def countSubstrings(string, substring):\n",
    "    string_size = len(string)\n",
    "    substring_size = len(substring)\n",
    "    count = 0\n",
    "    for i in range(0,string_size-substring_size+1):\n",
    "        if string[i:i+substring_size] == substring:\n",
    "            count+=1\n",
    "    return count"
   ]
  },
  {
   "cell_type": "code",
   "execution_count": 20,
   "metadata": {},
   "outputs": [
    {
     "name": "stdout",
     "output_type": "stream",
     "text": [
      "αββααβββ\n",
      "αα 1\n",
      "αβ 2\n",
      "βα 1\n",
      "ββ 3\n",
      "αααβααβα\n",
      "αα 3\n",
      "αβ 2\n",
      "βα 2\n",
      "ββ 0\n",
      "βαααββα\n",
      "αα 2\n",
      "αβ 1\n",
      "βα 2\n",
      "ββ 1\n",
      "αββαααβαα\n",
      "αα 3\n",
      "αβ 2\n",
      "βα 2\n",
      "ββ 1\n"
     ]
    },
    {
     "data": {
      "text/plain": [
       "{'αα': 9, 'αβ': 7, 'βα': 7, 'ββ': 5}"
      ]
     },
     "execution_count": 20,
     "metadata": {},
     "output_type": "execute_result"
    }
   ],
   "source": [
    "trans = {}\n",
    "for line in lines:\n",
    "    sec = line.split()[0]\n",
    "    print(sec)\n",
    "    for i in range(len(secondary)):\n",
    "        for j in range(len(secondary)):\n",
    "            substr = secondary[i]+secondary[j]\n",
    "            count = countSubstrings(sec,substr)\n",
    "            print(substr, count)\n",
    "            if substr in trans:\n",
    "                trans[substr] += count\n",
    "            else:\n",
    "                trans[substr] = count\n",
    "trans"
   ]
  },
  {
   "cell_type": "code",
   "execution_count": 21,
   "metadata": {},
   "outputs": [
    {
     "data": {
      "text/html": [
       "<div>\n",
       "<style scoped>\n",
       "    .dataframe tbody tr th:only-of-type {\n",
       "        vertical-align: middle;\n",
       "    }\n",
       "\n",
       "    .dataframe tbody tr th {\n",
       "        vertical-align: top;\n",
       "    }\n",
       "\n",
       "    .dataframe thead th {\n",
       "        text-align: right;\n",
       "    }\n",
       "</style>\n",
       "<table border=\"1\" class=\"dataframe\">\n",
       "  <thead>\n",
       "    <tr style=\"text-align: right;\">\n",
       "      <th></th>\n",
       "      <th>Xt+1</th>\n",
       "      <th>Xt</th>\n",
       "      <th>P(Xt+1|Xt)</th>\n",
       "    </tr>\n",
       "  </thead>\n",
       "  <tbody>\n",
       "    <tr>\n",
       "      <th>0</th>\n",
       "      <td>α</td>\n",
       "      <td>α</td>\n",
       "      <td>0.555556</td>\n",
       "    </tr>\n",
       "    <tr>\n",
       "      <th>1</th>\n",
       "      <td>β</td>\n",
       "      <td>α</td>\n",
       "      <td>0.444444</td>\n",
       "    </tr>\n",
       "    <tr>\n",
       "      <th>2</th>\n",
       "      <td>α</td>\n",
       "      <td>β</td>\n",
       "      <td>0.571429</td>\n",
       "    </tr>\n",
       "    <tr>\n",
       "      <th>3</th>\n",
       "      <td>β</td>\n",
       "      <td>β</td>\n",
       "      <td>0.428571</td>\n",
       "    </tr>\n",
       "  </tbody>\n",
       "</table>\n",
       "</div>"
      ],
      "text/plain": [
       "  Xt+1 Xt  P(Xt+1|Xt)\n",
       "0    α  α    0.555556\n",
       "1    β  α    0.444444\n",
       "2    α  β    0.571429\n",
       "3    β  β    0.428571"
      ]
     },
     "execution_count": 21,
     "metadata": {},
     "output_type": "execute_result"
    }
   ],
   "source": [
    "columnsTrans = ['Xt+1', 'Xt', 'P(Xt+1|Xt)']\n",
    "dfTrans = pd.DataFrame(columns=columnsTrans)\n",
    "for i in range(2):\n",
    "    for j in range(2):\n",
    "        s1 = secondary[i]\n",
    "        s2 = secondary[j]\n",
    "        s2Other = secondary[(j+1)%2]\n",
    "        prob = (trans[s1+s2]+1)/(trans[s1+s2]+trans[s1+s2Other]+2)\n",
    "        dfTrans = dfTrans.append({'Xt+1': s2, 'Xt': s1, 'P(Xt+1|Xt)': prob}, ignore_index=True)\n",
    "dfTrans"
   ]
  },
  {
   "cell_type": "code",
   "execution_count": 22,
   "metadata": {},
   "outputs": [
    {
     "name": "stdout",
     "output_type": "stream",
     "text": [
      "['αββααβββ', 'AAAHHHAA']\n",
      "{'αA': 1, 'βA': 4, 'αH': 2, 'βH': 1}\n",
      "['αααβααβα', 'HHAAHHHA']\n",
      "{'αA': 3, 'βA': 5, 'αH': 6, 'βH': 2}\n",
      "['βαααββα', 'AAAAHAH']\n",
      "{'αA': 6, 'βA': 7, 'αH': 7, 'βH': 3}\n",
      "['αββαααβαα', 'AHAAAHAAH']\n",
      "{'αA': 10, 'βA': 9, 'αH': 9, 'βH': 4}\n"
     ]
    }
   ],
   "source": [
    "emis = {}\n",
    "for line in lines:\n",
    "    both = line.split()\n",
    "    print(both)\n",
    "    for i in range(len(both[0])):\n",
    "        pair = both[0][i] + both[1][i]\n",
    "        if pair in emis:\n",
    "            emis[pair] += 1\n",
    "        else:\n",
    "            emis[pair] = 1\n",
    "    print(emis)"
   ]
  },
  {
   "cell_type": "code",
   "execution_count": 23,
   "metadata": {},
   "outputs": [
    {
     "data": {
      "text/html": [
       "<div>\n",
       "<style scoped>\n",
       "    .dataframe tbody tr th:only-of-type {\n",
       "        vertical-align: middle;\n",
       "    }\n",
       "\n",
       "    .dataframe tbody tr th {\n",
       "        vertical-align: top;\n",
       "    }\n",
       "\n",
       "    .dataframe thead th {\n",
       "        text-align: right;\n",
       "    }\n",
       "</style>\n",
       "<table border=\"1\" class=\"dataframe\">\n",
       "  <thead>\n",
       "    <tr style=\"text-align: right;\">\n",
       "      <th></th>\n",
       "      <th>Et</th>\n",
       "      <th>Xt</th>\n",
       "      <th>P(Et|Xt)</th>\n",
       "    </tr>\n",
       "  </thead>\n",
       "  <tbody>\n",
       "    <tr>\n",
       "      <th>0</th>\n",
       "      <td>A</td>\n",
       "      <td>α</td>\n",
       "      <td>0.523810</td>\n",
       "    </tr>\n",
       "    <tr>\n",
       "      <th>1</th>\n",
       "      <td>A</td>\n",
       "      <td>β</td>\n",
       "      <td>0.666667</td>\n",
       "    </tr>\n",
       "    <tr>\n",
       "      <th>2</th>\n",
       "      <td>H</td>\n",
       "      <td>α</td>\n",
       "      <td>0.476190</td>\n",
       "    </tr>\n",
       "    <tr>\n",
       "      <th>3</th>\n",
       "      <td>H</td>\n",
       "      <td>β</td>\n",
       "      <td>0.333333</td>\n",
       "    </tr>\n",
       "  </tbody>\n",
       "</table>\n",
       "</div>"
      ],
      "text/plain": [
       "  Et Xt  P(Et|Xt)\n",
       "0  A  α  0.523810\n",
       "1  A  β  0.666667\n",
       "2  H  α  0.476190\n",
       "3  H  β  0.333333"
      ]
     },
     "execution_count": 23,
     "metadata": {},
     "output_type": "execute_result"
    }
   ],
   "source": [
    "columnsEmission = ['Et', 'Xt', 'P(Et|Xt)']\n",
    "dfEmis = pd.DataFrame(columns=columnsEmission)\n",
    "for i in range(2):\n",
    "    for j in range(2):\n",
    "        e = amino[i]\n",
    "        eOther = amino[(i+1)%2]\n",
    "        s = secondary[j]\n",
    "        prob = (emis[s+e]+1)/(emis[s+e]+emis[s+eOther]+2)\n",
    "        dfEmis = dfEmis.append({'Et': e, 'Xt': s, 'P(Et|Xt)': prob}, ignore_index=True)\n",
    "dfEmis"
   ]
  },
  {
   "cell_type": "code",
   "execution_count": 24,
   "metadata": {},
   "outputs": [],
   "source": [
    "def probEmis(e, x):\n",
    "    return dfEmis[(dfEmis['Et'] == e) & (dfEmis['Xt'] == x)]['P(Et|Xt)'].item()\n",
    "def probTrans(xt1,xt):\n",
    "    return dfTrans[(dfTrans['Xt+1'] == xt1) & (dfTrans['Xt'] == xt)]['P(Xt+1|Xt)'].item()\n",
    "def probIni(x):\n",
    "    prob = (3+1)/(4+2) #(Nalpha ini + 1)/(number of chains + 2 possibilities of aminos)\n",
    "    if x==alpha:\n",
    "        return prob\n",
    "    elif x == beta: \n",
    "        return 1-prob "
   ]
  },
  {
   "cell_type": "code",
   "execution_count": 25,
   "metadata": {},
   "outputs": [
    {
     "name": "stdout",
     "output_type": "stream",
     "text": [
      "P(S1=alpha)= 0.6666666666666666\n",
      "P(Oi=A|Si=alpha)= 0.5238095238095238\n",
      "P(Oi=H|Si=beta)= 0.3333333333333333\n",
      "P(Xt+1=beta|Xt=alpha)= 0.4444444444444444\n",
      "P(Xt+1=alpha|Xt=beta)= 0.5714285714285714\n"
     ]
    }
   ],
   "source": [
    "print('P(S1=alpha)=', probIni(alpha))\n",
    "print('P(Oi=A|Si=alpha)=', probEmis('A', alpha))\n",
    "print('P(Oi=H|Si=beta)=', probEmis('H', beta))\n",
    "print('P(Xt+1=beta|Xt=alpha)=', probTrans(beta, alpha))\n",
    "print('P(Xt+1=alpha|Xt=beta)=', probTrans(alpha, beta))"
   ]
  },
  {
   "cell_type": "code",
   "execution_count": 26,
   "metadata": {},
   "outputs": [],
   "source": [
    "#b\n",
    "def forward(k, e):\n",
    "    probs = [0]*k\n",
    "    pAlpha = probEmis(e[0], alpha) * probIni(alpha)\n",
    "    pBeta = probEmis(e[0], beta) * probIni(beta)\n",
    "    denom = pAlpha+pBeta\n",
    "    p = {alpha: pAlpha/denom, beta: pBeta/denom}\n",
    "    probs[0] = p\n",
    "    for i in range(1,k):\n",
    "        pAlpha = probTrans(alpha, alpha)*probs[i-1][alpha]\n",
    "        pAlpha += probTrans(alpha, beta)*probs[i-1][beta]\n",
    "        pAlpha = pAlpha*probEmis(e[i], alpha)\n",
    "        \n",
    "        pBeta = probTrans(beta, alpha)*probs[i-1][alpha]\n",
    "        pBeta += probTrans(beta, beta)*probs[i-1][beta]\n",
    "        pBeta = pBeta*probEmis(e[i], beta)\n",
    "        denom = pAlpha+pBeta\n",
    "        p = {alpha: pAlpha/denom, beta: pBeta/denom}\n",
    "        probs[i] = p\n",
    "    return probs"
   ]
  },
  {
   "cell_type": "code",
   "execution_count": 27,
   "metadata": {},
   "outputs": [
    {
     "data": {
      "text/plain": [
       "[{'α': 0.6111111111111112, 'β': 0.38888888888888895},\n",
       " {'α': 0.6467661691542289, 'β': 0.35323383084577115},\n",
       " {'α': 0.6462408715975955, 'β': 0.3537591284024045},\n",
       " {'α': 0.5011882241189397, 'β': 0.4988117758810604},\n",
       " {'α': 0.5035269305301889, 'β': 0.496473069469811},\n",
       " {'α': 0.6483499374434045, 'β': 0.35165006255659553}]"
      ]
     },
     "execution_count": 27,
     "metadata": {},
     "output_type": "execute_result"
    }
   ],
   "source": [
    "e = 'AHHAAHAAHA'\n",
    "forward(6, e)"
   ]
  },
  {
   "cell_type": "code",
   "execution_count": 28,
   "metadata": {},
   "outputs": [],
   "source": [
    "def backward(t, k, e):\n",
    "    num = t-k\n",
    "    probs = [0]*(num)\n",
    "\n",
    "    pAlpha = probTrans(alpha, alpha)*probEmis(e[-1], alpha)\n",
    "    pAlpha += probTrans(beta, alpha)*probEmis(e[-1], beta)\n",
    "\n",
    "    pBeta = probTrans(alpha, beta)*probEmis(e[-1], alpha)\n",
    "    pBeta += probTrans(beta, beta)*probEmis(e[-1], beta)\n",
    "\n",
    "    p = {alpha: pAlpha, beta: pBeta}\n",
    "    probs[0] = p\n",
    "    for i in range(1,num):\n",
    "        pAlpha = probTrans(alpha, alpha)*probEmis(e[-i-1], alpha)*probs[i-1][alpha]\n",
    "        pAlpha += probTrans(beta, alpha)*probEmis(e[-i-1], beta)*probs[i-1][beta]\n",
    "    \n",
    "        pBeta = probTrans(alpha, beta)*probEmis(e[-i-1], alpha)*probs[i-1][alpha]\n",
    "        pBeta += probTrans(beta, beta)*probEmis(e[-i-1], beta)*probs[i-1][beta]\n",
    "        \n",
    "        p = {alpha: pAlpha, beta: pBeta}\n",
    "        probs[i] = p\n",
    "    return probs"
   ]
  },
  {
   "cell_type": "code",
   "execution_count": 29,
   "metadata": {},
   "outputs": [
    {
     "data": {
      "text/plain": [
       "[{'α': 0.5873015873015873, 'β': 0.5850340136054422},\n",
       " {'α': 0.24204249601074995, 'β': 0.24338624338624337},\n",
       " {'α': 0.14255008947206813, 'β': 0.14198702072581781},\n",
       " {'α': 0.08355305863285473, 'β': 0.08323577419901595}]"
      ]
     },
     "execution_count": 29,
     "metadata": {},
     "output_type": "execute_result"
    }
   ],
   "source": [
    "backward(10, 6, e)"
   ]
  },
  {
   "cell_type": "code",
   "execution_count": 30,
   "metadata": {},
   "outputs": [
    {
     "data": {
      "text/plain": [
       "{'α': 0.6492168731901188, 'β': 0.3507831268098813}"
      ]
     },
     "execution_count": 30,
     "metadata": {},
     "output_type": "execute_result"
    }
   ],
   "source": [
    "pAlpha = backward(10,6,e)[3][alpha]*forward(6,e)[5][alpha]\n",
    "pBeta = backward(10,6,e)[3][beta]*forward(6,e)[5][beta]\n",
    "\n",
    "denom = pAlpha+pBeta\n",
    "p = {alpha: pAlpha/denom, beta: pBeta/denom}\n",
    "p"
   ]
  },
  {
   "cell_type": "code",
   "execution_count": 31,
   "metadata": {},
   "outputs": [
    {
     "data": {
      "text/plain": [
       "'aaabaaabab'"
      ]
     },
     "execution_count": 31,
     "metadata": {},
     "output_type": "execute_result"
    }
   ],
   "source": [
    "#c\n",
    "def viterbi(e):\n",
    "    probs = [0]*len(e)\n",
    "    \n",
    "    pAlpha = probEmis(e[0], alpha)*probIni(alpha)\n",
    "    pBeta = probEmis(e[0], beta)*probIni(beta)\n",
    "    \n",
    "    pathIni1 = ['a']\n",
    "    pathIni2 = ['b']\n",
    "    \n",
    "    probs[0] = {alpha: pAlpha, beta: pBeta}\n",
    "    for i in range(1, len(e)):\n",
    "        arg1Alpha = probTrans(alpha, alpha)*probs[i-1][alpha]\n",
    "        arg2Alpha = probTrans(alpha, beta)*probs[i-1][beta]\n",
    "        pAlpha = probEmis(e[i], alpha)*np.max([arg1Alpha, arg2Alpha])\n",
    "        \n",
    "        arg1Beta = probTrans(beta, alpha)*probs[i-1][alpha]\n",
    "        arg2Beta = probTrans(beta, beta)*probs[i-1][beta]\n",
    "        pBeta = probEmis(e[i], beta)*np.max([arg1Beta, arg2Beta])\n",
    "        \n",
    "        mAlpha = np.argmax([arg1Alpha, arg2Alpha])\n",
    "        mBeta = np.argmax([arg1Beta, arg2Beta])\n",
    "\n",
    "        if mAlpha == 0:\n",
    "            path1 = pathIni1 + ['a']\n",
    "        elif mAlpha == 1:\n",
    "            path1 = pathIni2 + ['a']\n",
    "        if mBeta == 0:\n",
    "            path2 = pathIni1 + ['b']\n",
    "        elif mBeta == 1:\n",
    "            path2 = pathIni2 + ['b']\n",
    "        \n",
    "        probs[i] = {alpha: pAlpha, beta: pBeta}\n",
    "        pathIni1 = path1\n",
    "        pathIni2 = path2\n",
    "    \n",
    "    m = np.argmax([probs[len(e)-1][alpha], probs[len(e)-1][beta]])\n",
    "    if m==0:\n",
    "        path = pathIni1\n",
    "    if m==1:\n",
    "        path = pathIni2\n",
    "    return path \n",
    "\n",
    "''.join(viterbi(e))"
   ]
  }
 ],
 "metadata": {
  "kernelspec": {
   "display_name": "Python 3",
   "language": "python",
   "name": "python3"
  },
  "language_info": {
   "codemirror_mode": {
    "name": "ipython",
    "version": 3
   },
   "file_extension": ".py",
   "mimetype": "text/x-python",
   "name": "python",
   "nbconvert_exporter": "python",
   "pygments_lexer": "ipython3",
   "version": "3.8.5"
  }
 },
 "nbformat": 4,
 "nbformat_minor": 4
}
