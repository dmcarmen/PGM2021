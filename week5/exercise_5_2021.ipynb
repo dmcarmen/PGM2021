{
 "cells": [
  {
   "cell_type": "markdown",
   "metadata": {},
   "source": [
    "# Probabilistic Models – Spring 2021\n",
    "## Exercise Session 5\n",
    "Feb 24th 16.15\n",
    "\n",
    "<span style=\"color:red\">**Carmen Diez**</span>\n",
    "\n",
    "### Instructions\n",
    "Make sure the notebook produces correct results when ran sequentially starting from the first cell. You can ensure this by clearing all outputs (`Edit > Clear All Outputs`), running all cells (`Run > Run All Cells`), and finally correcting any errors.\n",
    "\n",
    "To get points:\n",
    "1. Submit your answers to the automatically checked Moodle test. \n",
    " - You have 5 tries on the test: the highest obtained score will be taken into account.\n",
    " - For numerical questions the tolerance is $1\\cdot10^{-4}$.\n",
    "2. Submit this notebook containing your derivations to Moodle.\n",
    "\n",
    "Use the format specified in the week 2 exercises for returning the structure in Exercises 3, 4 and 6. "
   ]
  },
  {
   "cell_type": "markdown",
   "metadata": {},
   "source": [
    "### Imports"
   ]
  },
  {
   "cell_type": "code",
   "execution_count": 1,
   "metadata": {},
   "outputs": [],
   "source": [
    "import pandas as pd\n",
    "import numpy as np\n",
    "from scipy.special import gammaln\n",
    "import graphviz"
   ]
  },
  {
   "cell_type": "markdown",
   "metadata": {},
   "source": [
    "## Exercise 1\n",
    "***\n",
    "\n",
    "Consider the following training data set $D$:\n"
   ]
  },
  {
   "cell_type": "code",
   "execution_count": 2,
   "metadata": {
    "scrolled": true
   },
   "outputs": [
    {
     "name": "stdout",
     "output_type": "stream",
     "text": [
      "X1\tX2\tX3\tX4\tY\r\n",
      "0\t0\t0\t1\t1\r\n",
      "0\t1\t0\t0\t2\r\n",
      "0\t1\t0\t1\t1\r\n",
      "0\t1\t1\t0\t2\r\n",
      "1\t0\t0\t0\t1\r\n",
      "1\t0\t0\t1\t1\r\n",
      "1\t0\t1\t1\t1\r\n",
      "1\t1\t0\t0\t3\r\n",
      "1\t1\t0\t1\t1\r\n",
      "1\t1\t1\t0\t2\r\n"
     ]
    }
   ],
   "source": [
    "!cat data/1.train.tsv"
   ]
  },
  {
   "cell_type": "markdown",
   "metadata": {},
   "source": [
    "Consider  the  DAG  of  a  Naive  Bayes  classifier  structure  where $Y$ is the class. Learn parameters of the Bayesian network:\n",
    "\n",
    "- (a) Using maximum likelihood estimation.\n",
    "  - Report $P(X_3=1 \\mid Y=1)$\n",
    "- (b) Using the Bayesian Estimate with the BDeu prior using equivalent sample size of 1.\n",
    "  - Report $P(X_4=1 \\mid Y=2)$\n",
    "- (c) Determine which estimate gives the higher likelihood (or log-likelihood) for the following test set."
   ]
  },
  {
   "cell_type": "code",
   "execution_count": 3,
   "metadata": {
    "scrolled": true
   },
   "outputs": [
    {
     "name": "stdout",
     "output_type": "stream",
     "text": [
      "X1\tX2\tX3\tX4\tY\r\n",
      "0\t0\t0\t0\t1\r\n",
      "0\t0\t1\t0\t2\r\n",
      "0\t0\t1\t1\t1\r\n",
      "0\t1\t1\t1\t2\r\n",
      "1\t0\t1\t0\t3\r\n",
      "1\t1\t1\t1\t2\r\n"
     ]
    }
   ],
   "source": [
    "!cat data/1.test.tsv"
   ]
  },
  {
   "cell_type": "markdown",
   "metadata": {},
   "source": [
    "### Solution"
   ]
  },
  {
   "cell_type": "markdown",
   "metadata": {},
   "source": [
    "**(a)** MLE: $\\theta_{ijk}=\\frac{N_{ijk}}{N_{ij}}$\n",
    "\n",
    "* $N_{ij}= \\text{# of values where parents}(X_i)=Y=k$\n",
    "\n",
    "* $N_{ijk}= \\text{# of values where } X_i=j, \\text{parents}(X_i)=Y=k$\n",
    "\n",
    "**(b)** BE: $\\theta_{ijk}=\\frac{N_{ijk} + \\alpha_{ijk}}{N_{ij} + \\alpha_{ij}}$\n",
    "\n",
    "* $\\alpha_{ij} = \\frac{\\alpha}{q_i}$\n",
    "\n",
    "* $\\alpha_{ijk} = \\frac{\\alpha}{q_i r_i}$\n",
    "\n",
    "* $q_i = \\text{# of possible values of parents}(X_i)= Y$\n",
    "\n",
    "* $r_i = \\text{# of possible values of } X_i$"
   ]
  },
  {
   "cell_type": "code",
   "execution_count": 4,
   "metadata": {},
   "outputs": [],
   "source": [
    "df = pd.read_csv('data/1.train.tsv', sep = '\\t')"
   ]
  },
  {
   "cell_type": "code",
   "execution_count": 5,
   "metadata": {},
   "outputs": [],
   "source": [
    "def Nijk(Xi, j, k, df):\n",
    "    cond = df[df['Y']==k]\n",
    "    Xijk = cond[cond[Xi]==j]\n",
    "    return len(Xijk.index)\n",
    "\n",
    "def Nij(k, df):\n",
    "    cond = df[df['Y']==k]\n",
    "    return len(cond.index)\n",
    "    \n",
    "def pCondMLE(Xi, j, k, df):\n",
    "    return Nijk(Xi, j, k, df)/Nij(k, df)\n",
    "\n",
    "def pCondBE(Xi, j, k, df):\n",
    "    ri = len(df[Xi].value_counts().index)\n",
    "    qi = len(df['Y'].value_counts().index)\n",
    "    aijk = 1/(ri*qi)\n",
    "    aij = 1/qi\n",
    "    return (Nijk(Xi, j, k, df)+aijk)/(Nij(k, df)+aij)"
   ]
  },
  {
   "cell_type": "code",
   "execution_count": 6,
   "metadata": {},
   "outputs": [
    {
     "name": "stdout",
     "output_type": "stream",
     "text": [
      "(a) P(X3=1|Y=1)= 0.16666666666666666\n",
      "(b) P(X4=1|Y=2)= 0.049999999999999996\n"
     ]
    }
   ],
   "source": [
    "print('(a) P(X3=1|Y=1)=', pCondMLE('X3', 1, 1, df))\n",
    "print('(b) P(X4=1|Y=2)=', pCondBE('X4', 1, 2, df))"
   ]
  },
  {
   "cell_type": "markdown",
   "metadata": {},
   "source": [
    "**(c)** The likelihood in both cases is calculated with the corresponding estimators:\n",
    "$L(\\theta:D)=P(D:\\theta)=\\prod_{ijk}\\theta_{ijk}^{N_{ijk}}$.\n",
    "\n",
    "With Maximum Likelihood Estimates some of the $\\theta_{ijk}$ will be 0, so the likelihood will be 0. For Bayesian Estimates the probabilities will be more than 0 (thanks to the $\\alpha$'s added). Thus, $0=$MLE likelihood $<$ BE likelihood."
   ]
  },
  {
   "cell_type": "markdown",
   "metadata": {},
   "source": [
    "## Exercise 2\n",
    "***\n",
    "\n",
    "Consider two binary variables $X$ and $Y$. Prove that the structures $X\\rightarrow Y$ and $Y\\rightarrow X$ have always the same BDeu score (regardless of data and hyperparameters). "
   ]
  },
  {
   "cell_type": "markdown",
   "metadata": {},
   "source": [
    "### Solution\n",
    "* Data: \n",
    "    * $q_i=2=$\\# of possible values parent\n",
    "    * $r_i=2=$\\# of possible values child\n",
    "    * $\\alpha_{ij}=\\frac{\\alpha}{q_i} = \\frac{\\alpha}{2}$\n",
    "    * $\\alpha_{ijk}=\\frac{\\alpha}{q_i*r_i} = \\frac{\\alpha}{4}$\n",
    "    * $N_0=$\\# of observations $X=0$ and $Y=0$.\n",
    "    * $N_1=$\\# of observations $X=0$ and $Y=1$.\n",
    "    * $N_2=$\\# of observations $X=1$ and $Y=0$.\n",
    "    * $N_3=$\\# of observations $X=1$ and $Y=1$.\n",
    "    * 1 child ($n=1$) and 1 parent in both.\n",
    "    * BDeu score: $\\log(\\prod_{j=1}^{q_i}(\\frac{\\Gamma(\\alpha_{ij})}{\\Gamma(N_{ij}+\\alpha_{ij})} \\prod_{k=1}^{r_i} \\frac{\\Gamma(N_{ijk}+\\alpha_{ijk})}{\\Gamma(\\alpha_{ijk})}))\n",
    "    = \\log(\\prod_{j=1}^{q_i}(\\frac{\\Gamma(\\frac{\\alpha}{2})}{\\Gamma(N_{ij}+\\frac{\\alpha}{2})} \\prod_{k=1}^{r_i} \\frac{\\Gamma(N_{ijk}+\\frac{\\alpha}{4})}{\\Gamma(\\frac{\\alpha}{4})}))$\n",
    "    \n",
    "    \n",
    "* $X\\rightarrow Y$\n",
    "    * BDeu score:\n",
    "$\\log(\n",
    "(\\frac{\\Gamma(\\frac{\\alpha}{2})}{\\Gamma(N_{0}+N_{2}+\\frac{\\alpha}{2})} \n",
    "\\frac{\\Gamma(N_{0}+\\frac{\\alpha}{4})}{\\Gamma(\\frac{\\alpha}{4})}\n",
    "\\frac{\\Gamma(N_{2}+\\frac{\\alpha}{4})}{\\Gamma(\\frac{\\alpha}{4})})\n",
    "(\\frac{\\Gamma(\\frac{\\alpha}{2})}{\\Gamma(N_{1}+N_{3}+\\frac{\\alpha}{2})} \n",
    "\\frac{\\Gamma(N_{1}+\\frac{\\alpha}{4})}{\\Gamma(\\frac{\\alpha}{4})}\n",
    "\\frac{\\Gamma(N_{3}+\\frac{\\alpha}{4})}{\\Gamma(\\frac{\\alpha}{4})})\n",
    ")$\n",
    "\n",
    "$=\n",
    "2\\log\\Gamma(\\frac{\\alpha}{2}) + \\sum_{i=0}^3\\log\\Gamma(N_{i}+\\frac{\\alpha}{4})\n",
    "- 4\\log\\Gamma(\\frac{\\alpha}{4}) - \\log\\Gamma(N_{0}+N_{2}+\\frac{\\alpha}{2}) - \\log\\Gamma(N_{1}+N_{3}+\\frac{\\alpha}{2})$\n",
    "\n",
    "* $Y\\rightarrow X$\n",
    "    * BDeu score:\n",
    "$\\log(\n",
    "(\\frac{\\Gamma(\\frac{\\alpha}{2})}{\\Gamma(N_{0}+N_{1}+\\frac{\\alpha}{2})} \n",
    "\\frac{\\Gamma(N_{0}+\\frac{\\alpha}{4})}{\\Gamma(\\frac{\\alpha}{4})}\n",
    "\\frac{\\Gamma(N_{1}+\\frac{\\alpha}{4})}{\\Gamma(\\frac{\\alpha}{4})})\n",
    "(\\frac{\\Gamma(\\frac{\\alpha}{2})}{\\Gamma(N_{2}+N_{3}+\\frac{\\alpha}{2})} \n",
    "\\frac{\\Gamma(N_{2}+\\frac{\\alpha}{4})}{\\Gamma(\\frac{\\alpha}{4})}\n",
    "\\frac{\\Gamma(N_{3}+\\frac{\\alpha}{4})}{\\Gamma(\\frac{\\alpha}{4})})\n",
    ")$\n",
    "\n",
    "$=\n",
    "2\\log\\Gamma(\\frac{\\alpha}{2}) + \\sum_{i=0}^3\\log\\Gamma(N_{i}+\\frac{\\alpha}{4})\n",
    "- 4\\log\\Gamma(\\frac{\\alpha}{4}) - \\log\\Gamma(N_{0}+N_{1}+\\frac{\\alpha}{2}) - \\log\\Gamma(N_{2}+N_{3}+\\frac{\\alpha}{2})$\n",
    "\n",
    "Equating both of them everything cancels out but:\n",
    "\n",
    "$\\log\\Gamma(N_{0}+N_{1}+\\frac{\\alpha}{2}) + \\log\\Gamma(N_{2}+N_{3}+\\frac{\\alpha}{2})\n",
    "=\\log\\Gamma(N_{0}+N_{2}+\\frac{\\alpha}{2}) + \\log\\Gamma(N_{1}+N_{3}+\\frac{\\alpha}{2})$\n",
    "\n",
    "But both parts can be rewritten as:\n",
    "\n",
    "$\\log\\Gamma(N_{0}+N_{1}+N_2+N_3+\\alpha)$\n",
    "\n",
    "$\\square$"
   ]
  },
  {
   "cell_type": "markdown",
   "metadata": {},
   "source": [
    "## Exercise 3\n",
    "***\n",
    "\n",
    "Consider three binary variables $X$, $Y$ and $Z$. We have observed 100 data vectors. Find a DAG that maximizes the marginal likelihood given BDeu priors with equivalent sample size 1. (Hint: BDeu score is likelihood equivalent, so it suffices to calculate the score for one member in each of the 11 eq. classes.)  Counts for different vectors are as follows:"
   ]
  },
  {
   "cell_type": "code",
   "execution_count": 7,
   "metadata": {},
   "outputs": [
    {
     "name": "stdout",
     "output_type": "stream",
     "text": [
      "X\tY\tZ\tcount\r\n",
      "0\t0\t0\t10\r\n",
      "0\t0\t1\t13\r\n",
      "0\t1\t0\t1\r\n",
      "0\t1\t1\t44\r\n",
      "1\t0\t0\t2\r\n",
      "1\t0\t1\t18\r\n",
      "1\t1\t0\t4\r\n",
      "1\t1\t1\t8\r\n"
     ]
    }
   ],
   "source": [
    "!cat data/3.tsv"
   ]
  },
  {
   "cell_type": "markdown",
   "metadata": {},
   "source": [
    "### Solution\n",
    "\n",
    "BDeu score: $\\sum_{i=1}^n \\log(\\prod_{j=1}^{q_i}(\\frac{\\Gamma(\\alpha_{ij})}{\\Gamma(N_{ij}+\\alpha_{ij})} \\prod_{k=1}^{r_i} \\frac{\\Gamma(N_{ijk}+\\alpha_{ijk})}{\\Gamma(\\alpha_{ijk})}))$ \n",
    "\n",
    "$ =\\sum_{i=1}^n \\sum_{j=1}^{q_i}( \\log\\Gamma(\\alpha_{ij}) + \\log\\Gamma(N_{i0k}+\\alpha_{ijk}) + \\log\\Gamma(N_{i1k}+\\alpha_{ijk}) - 2\\log\\Gamma(\\alpha_{ijk}) - \\log\\Gamma(N_{ij}+\\alpha_{ij}))$\n",
    "\n",
    "* $N_{ij}= \\text{# of values where parents}(X_i)=k$\n",
    "\n",
    "* $N_{ijk}= \\text{# of values where } X_i=j, \\text{parents}(X_i)=k$\n",
    "\n",
    "* $q_i = \\text{# of possible values of parents}(X_i)$\n",
    "\n",
    "* $r_i = \\text{# of possible values of } X_i = 2$\n",
    "\n",
    "* $\\alpha = 1$\n",
    "\n",
    "* $\\alpha_{ij} = \\frac{\\alpha}{q_i} = \\frac{1}{q_i}$\n",
    "\n",
    "* $\\alpha_{ijk} = \\frac{\\alpha}{q_i r_i} = \\frac{1}{r_i*q_i}$"
   ]
  },
  {
   "cell_type": "code",
   "execution_count": 8,
   "metadata": {},
   "outputs": [],
   "source": [
    "df = pd.read_csv('data/3.tsv', sep = '\\t')"
   ]
  },
  {
   "cell_type": "code",
   "execution_count": 9,
   "metadata": {},
   "outputs": [],
   "source": [
    "def calc(aij, aijk, Nij, Ni0k, Ni1k):\n",
    "    plus = gammaln(aij) + gammaln(Ni0k + aijk) + gammaln(Ni1k + aijk)\n",
    "    minus = gammaln(Nij + aij) + 2*gammaln(aijk)\n",
    "    return plus-minus\n",
    "\n",
    "\n",
    "def eachlog(Xi, pa, df):\n",
    "    qi = 2**(len(pa))\n",
    "    aijk = 1/(2*qi)\n",
    "    aij = 1/qi\n",
    "    \n",
    "    if len(pa)==0:\n",
    "        Ni0k = df[df[Xi]==0]['count'].sum()\n",
    "        Ni1k = df[df[Xi]==1]['count'].sum()\n",
    "        Nij = Ni0k + Ni1k\n",
    "        res = calc(aij, aijk, Nij, Ni0k, Ni1k)\n",
    "    elif len(pa)==1:\n",
    "        res = 0\n",
    "        for k in range(2):\n",
    "            aux = df[df[pa[0]]==k]\n",
    "            Ni0k = aux[aux[Xi]==0]['count'].sum()\n",
    "            Ni1k = aux[aux[Xi]==1]['count'].sum()\n",
    "            Nij = Ni0k + Ni1k\n",
    "            res += calc(aij, aijk, Nij, Ni0k, Ni1k)\n",
    "    elif len(pa)==2:\n",
    "        res = 0\n",
    "        for k1 in range(2):\n",
    "            for k2 in range(2):\n",
    "                aux = df[(df[pa[0]]==k1) & (df[pa[1]]==k2)]\n",
    "                Ni0k = aux[aux[Xi]==0]['count'].sum()\n",
    "                Ni1k = aux[aux[Xi]==1]['count'].sum()\n",
    "                Nij = Ni0k + Ni1k\n",
    "                res += calc(aij, aijk, Nij, Ni0k, Ni1k)\n",
    "    return res"
   ]
  },
  {
   "cell_type": "code",
   "execution_count": 10,
   "metadata": {},
   "outputs": [
    {
     "name": "stdout",
     "output_type": "stream",
     "text": [
      "{'X': ['Y', 'Z'], 'Y': [], 'Z': []} -180.59006127030915\n",
      "{'X': [], 'Y': ['X', 'Z'], 'Z': []} -177.45071676536995\n",
      "{'X': [], 'Y': [], 'Z': ['X', 'Y']} -180.818597889465\n",
      "{'X': ['Y'], 'Y': [], 'Z': []} -183.29465521131485\n",
      "{'X': [], 'Y': [], 'Z': ['X']} -186.6625363354099\n",
      "{'X': [], 'Y': ['Z'], 'Z': []} -183.52319183047072\n",
      "{'X': [], 'Y': ['X'], 'Z': ['Y']} -182.61659211655075\n",
      "{'X': ['Z'], 'Y': ['X'], 'Z': []} -185.75593662148998\n",
      "{'X': ['Z'], 'Y': [], 'Z': ['Y']} -185.98447324064583\n",
      "{'X': ['Y', 'Z'], 'Y': [], 'Z': ['Y']} -179.91199817554508\n",
      "{'X': ['Z'], 'Y': ['X', 'Z'], 'Z': ['Y']} -179.233935080781\n",
      "{'X': ['Y'], 'Y': [], 'Z': ['X', 'Y']} -179.91199817554508\n",
      "{'X': [], 'Y': [], 'Z': []} -184.20125492523476\n",
      "\n",
      "MAX: {'X': [], 'Y': ['X', 'Z'], 'Z': []} -177.45071676536995\n"
     ]
    }
   ],
   "source": [
    "# Equivalence classes represented as dictionaries with nodes: parents\n",
    "# For example, X->Y Z is equivalent to X<-Y Z (direction doesnt matter)\n",
    "dags = [\n",
    "    # v-structure\n",
    "    {'X':['Y','Z'],'Y':[],'Z':[]}, #X middle\n",
    "    {'X':[],'Y':['X','Z'],'Z':[]}, #Y middle\n",
    "    {'X':[],'Y':[],'Z':['X','Y']}, #Z middle\n",
    "    # just one edge\n",
    "    {'X':['Y'],'Y':[],'Z':[]}, #X-Y\n",
    "    {'X':[],'Y':[],'Z':['X']}, #X-Z\n",
    "    {'X':[],'Y':['Z'],'Z':[]}, #Y-Z\n",
    "    # two edges\n",
    "    {'X':[],'Y':['X'],'Z':['Y']}, #X-Y-Z (rotating then...)\n",
    "    {'X':['Z'],'Y':['X'],'Z':[]}, #Z-X-Y\n",
    "    {'X':['Z'],'Y':[],'Z':['Y']}, #Y-Z-X\n",
    "    # v-structure and one edge\n",
    "    {'X':['Y','Z'],'Y':[],'Z':['Y']}, #X middle, Y-Z\n",
    "    {'X':['Z'],'Y':['X','Z'],'Z':['Y']}, #Y middle, X-Z\n",
    "    {'X':['Y'],'Y':[],'Z':['X','Y']}, #Z middle, X-Y\n",
    "    # separated\n",
    "    {'X':[],'Y':[],'Z':[]}]\n",
    "\n",
    "maxi = -float(\"inf\")\n",
    "maxiDAG = []\n",
    "\n",
    "for dag in dags:\n",
    "    res = 0\n",
    "    for n in ['X', 'Y', 'Z']:\n",
    "        res += eachlog(n, dag[n], df)\n",
    "    print(dag, res)\n",
    "    if maxi<res:\n",
    "        maxiDAG = dag\n",
    "        maxi = res\n",
    "        \n",
    "print()\n",
    "print('MAX:', maxiDAG, maxi)"
   ]
  },
  {
   "cell_type": "code",
   "execution_count": 11,
   "metadata": {},
   "outputs": [
    {
     "data": {
      "image/svg+xml": [
       "<?xml version=\"1.0\" encoding=\"UTF-8\" standalone=\"no\"?>\n",
       "<!DOCTYPE svg PUBLIC \"-//W3C//DTD SVG 1.1//EN\"\n",
       " \"http://www.w3.org/Graphics/SVG/1.1/DTD/svg11.dtd\">\n",
       "<!-- Generated by graphviz version 2.43.0 (0)\n",
       " -->\n",
       "<!-- Title: %3 Pages: 1 -->\n",
       "<svg width=\"188pt\" height=\"116pt\"\n",
       " viewBox=\"0.00 0.00 188.00 116.00\" xmlns=\"http://www.w3.org/2000/svg\" xmlns:xlink=\"http://www.w3.org/1999/xlink\">\n",
       "<g id=\"graph0\" class=\"graph\" transform=\"scale(1 1) rotate(0) translate(4 112)\">\n",
       "<title>%3</title>\n",
       "<polygon fill=\"white\" stroke=\"transparent\" points=\"-4,4 -4,-112 184,-112 184,4 -4,4\"/>\n",
       "<!-- X -->\n",
       "<g id=\"node1\" class=\"node\">\n",
       "<title>X</title>\n",
       "<ellipse fill=\"none\" stroke=\"black\" cx=\"27\" cy=\"-90\" rx=\"27\" ry=\"18\"/>\n",
       "<text text-anchor=\"middle\" x=\"27\" y=\"-86.3\" font-family=\"Times,serif\" font-size=\"14.00\">X</text>\n",
       "</g>\n",
       "<!-- Y -->\n",
       "<g id=\"node2\" class=\"node\">\n",
       "<title>Y</title>\n",
       "<ellipse fill=\"none\" stroke=\"black\" cx=\"90\" cy=\"-18\" rx=\"27\" ry=\"18\"/>\n",
       "<text text-anchor=\"middle\" x=\"90\" y=\"-14.3\" font-family=\"Times,serif\" font-size=\"14.00\">Y</text>\n",
       "</g>\n",
       "<!-- X&#45;&gt;Y -->\n",
       "<g id=\"edge1\" class=\"edge\">\n",
       "<title>X&#45;&gt;Y</title>\n",
       "<path fill=\"none\" stroke=\"black\" d=\"M40.36,-74.15C48.88,-64.69 60.09,-52.24 69.69,-41.56\"/>\n",
       "<polygon fill=\"black\" stroke=\"black\" points=\"72.57,-43.6 76.66,-33.82 67.37,-38.92 72.57,-43.6\"/>\n",
       "</g>\n",
       "<!-- Z -->\n",
       "<g id=\"node3\" class=\"node\">\n",
       "<title>Z</title>\n",
       "<ellipse fill=\"none\" stroke=\"black\" cx=\"153\" cy=\"-90\" rx=\"27\" ry=\"18\"/>\n",
       "<text text-anchor=\"middle\" x=\"153\" y=\"-86.3\" font-family=\"Times,serif\" font-size=\"14.00\">Z</text>\n",
       "</g>\n",
       "<!-- Z&#45;&gt;Y -->\n",
       "<g id=\"edge2\" class=\"edge\">\n",
       "<title>Z&#45;&gt;Y</title>\n",
       "<path fill=\"none\" stroke=\"black\" d=\"M139.64,-74.15C131.12,-64.69 119.91,-52.24 110.31,-41.56\"/>\n",
       "<polygon fill=\"black\" stroke=\"black\" points=\"112.63,-38.92 103.34,-33.82 107.43,-43.6 112.63,-38.92\"/>\n",
       "</g>\n",
       "</g>\n",
       "</svg>\n"
      ],
      "text/plain": [
       "<graphviz.dot.Digraph at 0x7f7afffb5610>"
      ]
     },
     "execution_count": 11,
     "metadata": {},
     "output_type": "execute_result"
    }
   ],
   "source": [
    "g = graphviz.Digraph(engine='dot', graph_attr={'rankdir':'TB', 'size':'20', 'nodesep':'1'})\n",
    "\n",
    "g.node(\"X\")\n",
    "g.node(\"Y\")\n",
    "g.node(\"Z\")\n",
    "\n",
    "g.edge(\"X\",\"Y\")\n",
    "g.edge(\"Z\",\"Y\")\n",
    "\n",
    "g"
   ]
  },
  {
   "cell_type": "code",
   "execution_count": 12,
   "metadata": {},
   "outputs": [
    {
     "name": "stdout",
     "output_type": "stream",
     "text": [
      "000101000\n"
     ]
    }
   ],
   "source": [
    "# Function to concatenate matrix rows into a single string\n",
    "def mat2vec(dag):\n",
    "    return ''.join(str(x) for x in dag.values.reshape(dag.values.shape[0]**2))\n",
    "\n",
    "# Adjacency matrix\n",
    "rvs = [\"X\", \"Y\", \"Z\"]\n",
    "DAG = pd.DataFrame(0, index=rvs, columns=rvs)\n",
    "\n",
    "# Edges\n",
    "DAG.loc[\"Y\", [\"X\", \"Z\"]] = 1\n",
    "\n",
    "# Create the vector\n",
    "print(mat2vec(DAG))"
   ]
  },
  {
   "cell_type": "markdown",
   "metadata": {},
   "source": [
    "## Exercise 4\n",
    "***\n",
    "\n",
    "Medical diagnosis. Let's have the following notation:\n",
    "\n",
    "| Notation | A person has                        |\n",
    "|----------|-------------------------------------|\n",
    "| $A=1$    | brain cancer                        |\n",
    "| $B=1$    | high blood calcium level            |\n",
    "| $C=1$    | brain tumor                         |\n",
    "| $D=1$    | seizures that cause unconsciousness |\n",
    "| $E=1$    | person has severe headaches         |\n",
    "\n",
    "An expert has told us the following information about the relationships between variables:\n",
    "\n",
    "> (1) Probability of severe headaches $P(E = 1)$ depends only on the fact whether a person has a brain tumor ($C$) or not. (2) On the other hand, if one knows the blood calcium level ($B$) and whether the person has a tumor or not ($C$), one can specify the probability of unconsciousness seizures ($D$). (3) In this case, the probability of $D$ doesn't depend on the presence of the headaches ($E$) or (directly) on the fact whether the person has brain cancer or not  ($A$). (4) The probability of a brain tumor ($C$) depends directly only on the fact, whether the person has brain cancer or not ($A$).\n",
    "\n",
    "Construct a DAG that represents the conditional independencies specified by the expert. (Hint: start with a full DAG with causal order A,B,C,D,E, and remove unnecessary edges.)"
   ]
  },
  {
   "cell_type": "markdown",
   "metadata": {},
   "source": [
    "### Solution\n",
    "**(1)** $E \\perp \\!\\!\\! \\perp A,B,D|C$\n",
    "\n",
    "**(2)** $D \\perp \\!\\!\\! \\perp A|B,C$\n",
    "\n",
    "**(4)** $C \\perp \\!\\!\\! \\perp B|A$\n",
    "\n",
    "Starting with a full DAG with causal order A,B,C,D,E and with the abover information remove unnecessary edges such that: child independent certain nodes given direct parent --> erase edge between certain nodes and child.\n",
    "A.k.a. deleting A->D, A->E, B->E, B->C, D->E."
   ]
  },
  {
   "cell_type": "code",
   "execution_count": 13,
   "metadata": {},
   "outputs": [
    {
     "data": {
      "image/svg+xml": [
       "<?xml version=\"1.0\" encoding=\"UTF-8\" standalone=\"no\"?>\n",
       "<!DOCTYPE svg PUBLIC \"-//W3C//DTD SVG 1.1//EN\"\n",
       " \"http://www.w3.org/Graphics/SVG/1.1/DTD/svg11.dtd\">\n",
       "<!-- Generated by graphviz version 2.43.0 (0)\n",
       " -->\n",
       "<!-- Title: %3 Pages: 1 -->\n",
       "<svg width=\"188pt\" height=\"188pt\"\n",
       " viewBox=\"0.00 0.00 188.00 188.00\" xmlns=\"http://www.w3.org/2000/svg\" xmlns:xlink=\"http://www.w3.org/1999/xlink\">\n",
       "<g id=\"graph0\" class=\"graph\" transform=\"scale(1 1) rotate(0) translate(4 184)\">\n",
       "<title>%3</title>\n",
       "<polygon fill=\"white\" stroke=\"transparent\" points=\"-4,4 -4,-184 184,-184 184,4 -4,4\"/>\n",
       "<!-- A -->\n",
       "<g id=\"node1\" class=\"node\">\n",
       "<title>A</title>\n",
       "<ellipse fill=\"none\" stroke=\"black\" cx=\"90\" cy=\"-162\" rx=\"27\" ry=\"18\"/>\n",
       "<text text-anchor=\"middle\" x=\"90\" y=\"-158.3\" font-family=\"Times,serif\" font-size=\"14.00\">A</text>\n",
       "</g>\n",
       "<!-- B -->\n",
       "<g id=\"node2\" class=\"node\">\n",
       "<title>B</title>\n",
       "<ellipse fill=\"none\" stroke=\"black\" cx=\"27\" cy=\"-90\" rx=\"27\" ry=\"18\"/>\n",
       "<text text-anchor=\"middle\" x=\"27\" y=\"-86.3\" font-family=\"Times,serif\" font-size=\"14.00\">B</text>\n",
       "</g>\n",
       "<!-- A&#45;&gt;B -->\n",
       "<g id=\"edge1\" class=\"edge\">\n",
       "<title>A&#45;&gt;B</title>\n",
       "<path fill=\"none\" stroke=\"black\" d=\"M76.64,-146.15C68.12,-136.69 56.91,-124.24 47.31,-113.56\"/>\n",
       "<polygon fill=\"black\" stroke=\"black\" points=\"49.63,-110.92 40.34,-105.82 44.43,-115.6 49.63,-110.92\"/>\n",
       "</g>\n",
       "<!-- C -->\n",
       "<g id=\"node3\" class=\"node\">\n",
       "<title>C</title>\n",
       "<ellipse fill=\"none\" stroke=\"black\" cx=\"153\" cy=\"-90\" rx=\"27\" ry=\"18\"/>\n",
       "<text text-anchor=\"middle\" x=\"153\" y=\"-86.3\" font-family=\"Times,serif\" font-size=\"14.00\">C</text>\n",
       "</g>\n",
       "<!-- A&#45;&gt;C -->\n",
       "<g id=\"edge2\" class=\"edge\">\n",
       "<title>A&#45;&gt;C</title>\n",
       "<path fill=\"none\" stroke=\"black\" d=\"M103.36,-146.15C111.88,-136.69 123.09,-124.24 132.69,-113.56\"/>\n",
       "<polygon fill=\"black\" stroke=\"black\" points=\"135.57,-115.6 139.66,-105.82 130.37,-110.92 135.57,-115.6\"/>\n",
       "</g>\n",
       "<!-- D -->\n",
       "<g id=\"node4\" class=\"node\">\n",
       "<title>D</title>\n",
       "<ellipse fill=\"none\" stroke=\"black\" cx=\"27\" cy=\"-18\" rx=\"27\" ry=\"18\"/>\n",
       "<text text-anchor=\"middle\" x=\"27\" y=\"-14.3\" font-family=\"Times,serif\" font-size=\"14.00\">D</text>\n",
       "</g>\n",
       "<!-- B&#45;&gt;D -->\n",
       "<g id=\"edge3\" class=\"edge\">\n",
       "<title>B&#45;&gt;D</title>\n",
       "<path fill=\"none\" stroke=\"black\" d=\"M27,-71.7C27,-63.98 27,-54.71 27,-46.11\"/>\n",
       "<polygon fill=\"black\" stroke=\"black\" points=\"30.5,-46.1 27,-36.1 23.5,-46.1 30.5,-46.1\"/>\n",
       "</g>\n",
       "<!-- C&#45;&gt;D -->\n",
       "<g id=\"edge4\" class=\"edge\">\n",
       "<title>C&#45;&gt;D</title>\n",
       "<path fill=\"none\" stroke=\"black\" d=\"M132.76,-77.75C112,-66.22 79.52,-48.18 56.02,-35.12\"/>\n",
       "<polygon fill=\"black\" stroke=\"black\" points=\"57.64,-32.02 47.19,-30.22 54.24,-38.13 57.64,-32.02\"/>\n",
       "</g>\n",
       "<!-- E -->\n",
       "<g id=\"node5\" class=\"node\">\n",
       "<title>E</title>\n",
       "<ellipse fill=\"none\" stroke=\"black\" cx=\"153\" cy=\"-18\" rx=\"27\" ry=\"18\"/>\n",
       "<text text-anchor=\"middle\" x=\"153\" y=\"-14.3\" font-family=\"Times,serif\" font-size=\"14.00\">E</text>\n",
       "</g>\n",
       "<!-- C&#45;&gt;E -->\n",
       "<g id=\"edge5\" class=\"edge\">\n",
       "<title>C&#45;&gt;E</title>\n",
       "<path fill=\"none\" stroke=\"black\" d=\"M153,-71.7C153,-63.98 153,-54.71 153,-46.11\"/>\n",
       "<polygon fill=\"black\" stroke=\"black\" points=\"156.5,-46.1 153,-36.1 149.5,-46.1 156.5,-46.1\"/>\n",
       "</g>\n",
       "</g>\n",
       "</svg>\n"
      ],
      "text/plain": [
       "<graphviz.dot.Digraph at 0x7f7afffb5a00>"
      ]
     },
     "execution_count": 13,
     "metadata": {},
     "output_type": "execute_result"
    }
   ],
   "source": [
    "g = graphviz.Digraph(engine='dot', graph_attr={'rankdir':'TB', 'size':'20', 'nodesep':'1'})\n",
    "\n",
    "g.node(\"A\")\n",
    "g.node(\"B\")\n",
    "g.node(\"C\")\n",
    "g.node(\"D\")\n",
    "g.node(\"E\")\n",
    "\n",
    "g.edge(\"A\",\"B\")\n",
    "g.edge(\"A\",\"C\")\n",
    "g.edge(\"B\",\"D\")\n",
    "g.edge(\"C\",\"D\")\n",
    "g.edge(\"C\",\"E\")\n",
    "\n",
    "g"
   ]
  },
  {
   "cell_type": "code",
   "execution_count": 14,
   "metadata": {},
   "outputs": [
    {
     "name": "stdout",
     "output_type": "stream",
     "text": [
      "0000010000100000110000100\n"
     ]
    }
   ],
   "source": [
    "# Function to concatenate matrix rows into a single string\n",
    "def mat2vec(dag):\n",
    "    return ''.join(str(x) for x in dag.values.reshape(dag.values.shape[0]**2))\n",
    "\n",
    "# Adjacency matrix\n",
    "rvs = [\"A\", \"B\", \"C\", \"D\", \"E\"]\n",
    "DAG = pd.DataFrame(0, index=rvs, columns=rvs)\n",
    "\n",
    "# Edges\n",
    "DAG.loc[\"B\", [\"A\"]] = 1\n",
    "DAG.loc[\"C\", [\"A\"]] = 1\n",
    "DAG.loc[\"D\", [\"B\", \"C\"]] = 1\n",
    "DAG.loc[\"E\", [\"C\"]] = 1\n",
    "\n",
    "# Create the vector\n",
    "print(mat2vec(DAG))"
   ]
  },
  {
   "cell_type": "markdown",
   "metadata": {},
   "source": [
    "## Exercise 5\n",
    "***\n",
    "\n",
    "Given the data used in Exercise 3 and the structure $X \\rightarrow Y \\rightarrow Z$, find the Bayesian estimates (i.e. expected parameters) given BDeu priors with equivalent sample size 1.\n",
    "\n",
    "- Report the expected parameter for $P(Z=1 \\mid Y=0)$."
   ]
  },
  {
   "cell_type": "markdown",
   "metadata": {},
   "source": [
    "### Solution\n",
    "\n",
    "BE: $\\theta_{ijk}=\\frac{N_{ijk} + \\alpha_{ijk}}{N_{ij} + \\alpha_{ij}}$\n",
    "\n",
    "* $N_{ij}= \\text{# of values where parents}(X_i)=k$\n",
    "\n",
    "* $N_{ijk}= \\text{# of values where } X_i=j, \\text{parents}(X_i)=k$\n",
    "\n",
    "* $q_i = \\text{# of possible values of parents}(X_i) = 2$\n",
    "\n",
    "* $r_i = \\text{# of possible values of } X_i = 2$\n",
    "\n",
    "* $\\alpha = 1$\n",
    "\n",
    "* $\\alpha_{ij} = \\frac{\\alpha}{q_i} = \\frac{1}{2}$\n",
    "\n",
    "* $\\alpha_{ijk} = \\frac{\\alpha}{q_i r_i} = \\frac{1}{4}$"
   ]
  },
  {
   "cell_type": "code",
   "execution_count": 15,
   "metadata": {},
   "outputs": [],
   "source": [
    "df = pd.read_csv('data/3.tsv', sep = '\\t')"
   ]
  },
  {
   "cell_type": "code",
   "execution_count": 16,
   "metadata": {},
   "outputs": [
    {
     "name": "stdout",
     "output_type": "stream",
     "text": [
      "P(Z=1|Y=0):  0.7183908045977011\n"
     ]
    }
   ],
   "source": [
    "def pCondBE2(Xi, j, pa, k, df):\n",
    "    aijk = 1/4\n",
    "    aij = 1/2\n",
    "    aux = df[df[pa]==k]\n",
    "    Nij = aux.sum()['count']\n",
    "    Nijk = aux[aux[Xi]==j].sum()['count']\n",
    "    return (Nijk+aijk)/(Nij+aij)\n",
    "\n",
    "print('P(Z=1|Y=0): ', pCondBE2('Z', 1, 'Y', 0, df))"
   ]
  },
  {
   "cell_type": "markdown",
   "metadata": {},
   "source": [
    "## Exercise 6\n",
    "***\n",
    "\n",
    "A run of the PC-algorithm (i.e., IC-algorithm with a particular way of selecting the tests) does the following independence tests on a data set with 5 variables:\n",
    "\n",
    "```\n",
    "Conditioning set size=0;\n",
    "x= 1  y= 2  S=  : pval = 0.3551245 \n",
    "x= 1  y= 3  S=  : pval = 0 \n",
    "x= 1  y= 4  S=  : pval = 0.2132192 \n",
    "x= 1  y= 5  S=  : pval = 0.5073849 \n",
    "x= 2  y= 3  S=  : pval = 7.690449e-49 \n",
    "x= 2  y= 4  S=  : pval = 2.855907e-79 \n",
    "x= 2  y= 5  S=  : pval = 0.565885 \n",
    "x= 3  y= 1  S=  : pval = 0 \n",
    "x= 3  y= 2  S=  : pval = 7.690449e-49 \n",
    "x= 3  y= 4  S=  : pval = 0.09429652 \n",
    "x= 3  y= 5  S=  : pval = 0.1341955 \n",
    "x= 4  y= 2  S=  : pval = 2.855907e-79 \n",
    "x= 4  y= 5  S=  : pval = 6.976787e-232 \n",
    "x= 5  y= 4  S=  : pval = 6.976787e-232 \n",
    "Conditioning set size=1;\n",
    "x= 2  y= 3  S= 4 : pval = 1.250955e-42 \n",
    "x= 2  y= 4  S= 3 : pval = 9.714191e-73 \n",
    "x= 3  y= 1  S= 2 : pval = 0 \n",
    "x= 3  y= 2  S= 1 : pval = 1.442632e-51 \n",
    "x= 4  y= 2  S= 5 : pval = 5.618453e-124 \n",
    "x= 4  y= 5  S= 2 : pval = 3.864918e-276\n",
    "```\n",
    "\n",
    "Here x and y denote the nodes and S is the conditioning set. The p-value threshold used is 0.01, so any tests where pval is less than 0.01 are considered to imply dependence, while p-values more than 0.01 are considered to imply independence. Which equivalence class of DAGs does the algorithm return? There may be several different solutions possible.\n",
    "\n",
    "If the equivalence class allows some edge to be directed in either direction, encode it as 1 in both directions in the vector to be returned to Moodle."
   ]
  },
  {
   "cell_type": "markdown",
   "metadata": {},
   "source": [
    "### Solution \n",
    "**(1)** Take complete undirected graph.\n",
    "\n",
    "**(2) Skeleton search** If a set $S_{AB}$ for $A$ and $B$ exists such that $A \\perp \\!\\!\\! \\perp B | S_{AB}$ then remove edge $A$̣-$B$.\n",
    "We remove all that are independent according to the test:\n",
    "\n",
    "1-2, 1-4, 1-5, 2-5, 3-4 and 3-5. We get the skeleton **1-3-2-4-5**.\n",
    "\n",
    "**(3) Orientation I** For each pair $A$ and $B$ of non-adjacent variables in the graph with a common neighbor $C$, check whether $C \\in S_{AB}$. If not, then orient arcs $A$ -> $C$ and $B$ -> $C$ (v-structure):\n",
    "\n",
    "Seeing the dependencies with a conditioning set of size 1 we have the following:\n",
    "* **1 -> 3 <- 2**:\n",
    "    * X=3, Y=1, S=2\n",
    "    * X=3, Y=2, S=1\n",
    "* **2 -> 4 <- 5**:\n",
    "    * X=4, Y=5, S=2\n",
    "    * X=4, Y=2, S=5\n",
    "    \n",
    "Thus, we get: **1 -> 3 <- 2 -> 4 <- 5**.\n",
    "\n",
    "<span style=\"color:red\">**ESTO INSTEAD: los nodos no estan en S = [] porque es el vacío y no hay nadie fiiin, te coges alguna de las parejas y tirar palante.**</span>\n",
    "\n",
    "**(4) Orientation II** orient as many arcs $D$ -> $E$ as possible subject to one of the conditions:\n",
    "* the orientation $E$ -> $D$ creates a new v-structure; or\n",
    "* the orientation $E$ -> $D$ creates a directed cycle.\n",
    "\n",
    "Everything is oriented already so no need to do anything."
   ]
  },
  {
   "cell_type": "code",
   "execution_count": 17,
   "metadata": {},
   "outputs": [
    {
     "name": "stdout",
     "output_type": "stream",
     "text": [
      "0000000000110000100100000\n"
     ]
    }
   ],
   "source": [
    "# Adjacency matrix\n",
    "rvs = [\"1\", \"2\", \"3\", \"4\", \"5\"]\n",
    "DAG = pd.DataFrame(0, index=rvs, columns=rvs)\n",
    "\n",
    "# Edges\n",
    "DAG.loc[\"3\", [\"1\"]] = 1\n",
    "DAG.loc[\"3\", [\"2\"]] = 1\n",
    "DAG.loc[\"4\", [\"2\"]] = 1\n",
    "DAG.loc[\"4\", [\"5\"]] = 1\n",
    "\n",
    "# Create the vector\n",
    "print(mat2vec(DAG))"
   ]
  }
 ],
 "metadata": {
  "kernelspec": {
   "display_name": "Python 3",
   "language": "python",
   "name": "python3"
  },
  "language_info": {
   "codemirror_mode": {
    "name": "ipython",
    "version": 3
   },
   "file_extension": ".py",
   "mimetype": "text/x-python",
   "name": "python",
   "nbconvert_exporter": "python",
   "pygments_lexer": "ipython3",
   "version": "3.8.5"
  }
 },
 "nbformat": 4,
 "nbformat_minor": 4
}
